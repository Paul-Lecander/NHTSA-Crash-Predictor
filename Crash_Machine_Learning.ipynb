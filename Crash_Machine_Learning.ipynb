{
 "cells": [
  {
   "cell_type": "code",
   "execution_count": 1,
   "metadata": {},
   "outputs": [],
   "source": [
    "# Import the dependencies.\n",
    "import pandas as pd\n",
    "from sqlalchemy import create_engine\n",
    "from sklearn.model_selection import train_test_split\n",
    "from sklearn.preprocessing import StandardScaler,OneHotEncoder\n",
    "import tensorflow as tf\n",
    "import numpy as np\n",
    "import re\n",
    "\n",
    "# Import the CRSS connection string.\n",
    "from config import crss_conn_string"
   ]
  },
  {
   "cell_type": "markdown",
   "metadata": {},
   "source": [
    "# CONNECT TO THE DATABASE"
   ]
  },
  {
   "cell_type": "code",
   "execution_count": 2,
   "metadata": {},
   "outputs": [],
   "source": [
    "# Create CSSR engine.\n",
    "cssr_engine = create_engine(crss_conn_string);"
   ]
  },
  {
   "cell_type": "code",
   "execution_count": 3,
   "metadata": {},
   "outputs": [],
   "source": [
    "# Connect to server.\n",
    "cssr_conn = cssr_engine.connect();"
   ]
  },
  {
   "cell_type": "code",
   "execution_count": 4,
   "metadata": {},
   "outputs": [],
   "source": [
    "# Create accidents, vehicles, people data frame.\n",
    "avp_df = pd.read_sql(\"SELECT * FROM public.accident_vehicle_person\", cssr_conn)"
   ]
  },
  {
   "cell_type": "code",
   "execution_count": 5,
   "metadata": {},
   "outputs": [
    {
     "data": {
      "text/html": [
       "<div>\n",
       "<style scoped>\n",
       "    .dataframe tbody tr th:only-of-type {\n",
       "        vertical-align: middle;\n",
       "    }\n",
       "\n",
       "    .dataframe tbody tr th {\n",
       "        vertical-align: top;\n",
       "    }\n",
       "\n",
       "    .dataframe thead th {\n",
       "        text-align: right;\n",
       "    }\n",
       "</style>\n",
       "<table border=\"1\" class=\"dataframe\">\n",
       "  <thead>\n",
       "    <tr style=\"text-align: right;\">\n",
       "      <th></th>\n",
       "      <th>casenum</th>\n",
       "      <th>urbancity</th>\n",
       "      <th>ve_total</th>\n",
       "      <th>ve_forms</th>\n",
       "      <th>permvit</th>\n",
       "      <th>num_inj</th>\n",
       "      <th>month</th>\n",
       "      <th>year</th>\n",
       "      <th>day_week</th>\n",
       "      <th>hour</th>\n",
       "      <th>alcohol</th>\n",
       "      <th>max_sev</th>\n",
       "      <th>wrk_zone</th>\n",
       "      <th>lgt_cond</th>\n",
       "      <th>weather</th>\n",
       "      <th>veh_no</th>\n",
       "      <th>numoccs</th>\n",
       "      <th>m_harmname</th>\n",
       "      <th>makename</th>\n",
       "      <th>tow_vehname</th>\n",
       "      <th>trav_speed</th>\n",
       "      <th>deformedname</th>\n",
       "      <th>towedname</th>\n",
       "      <th>speedrelname</th>\n",
       "      <th>vtrafwayname</th>\n",
       "      <th>vspd_lim</th>\n",
       "      <th>bdytyp_imname</th>\n",
       "      <th>mod_year</th>\n",
       "      <th>p_crash1name</th>\n",
       "      <th>per_no</th>\n",
       "      <th>rest_usename</th>\n",
       "      <th>rest_misname</th>\n",
       "      <th>helm_usename</th>\n",
       "      <th>helm_misname</th>\n",
       "      <th>drinkingname</th>\n",
       "      <th>alc_resname</th>\n",
       "      <th>drugsname</th>\n",
       "      <th>hospitalname</th>\n",
       "      <th>locationname</th>\n",
       "      <th>sex_imname</th>\n",
       "      <th>injsev_imname</th>\n",
       "      <th>peralch_imname</th>\n",
       "      <th>seat_imname</th>\n",
       "      <th>age_im</th>\n",
       "    </tr>\n",
       "  </thead>\n",
       "  <tbody>\n",
       "    <tr>\n",
       "      <th>0</th>\n",
       "      <td>201901180165</td>\n",
       "      <td>1</td>\n",
       "      <td>2</td>\n",
       "      <td>2</td>\n",
       "      <td>3</td>\n",
       "      <td>0</td>\n",
       "      <td>1</td>\n",
       "      <td>2019</td>\n",
       "      <td>4</td>\n",
       "      <td>8</td>\n",
       "      <td>2</td>\n",
       "      <td>0</td>\n",
       "      <td>0</td>\n",
       "      <td>1</td>\n",
       "      <td>1</td>\n",
       "      <td>2</td>\n",
       "      <td>2</td>\n",
       "      <td>Motor Vehicle In-Transport</td>\n",
       "      <td>Toyota</td>\n",
       "      <td>No Trailing Units</td>\n",
       "      <td>0</td>\n",
       "      <td>Minor Damage</td>\n",
       "      <td>Not Reported</td>\n",
       "      <td>No</td>\n",
       "      <td>Two-Way,  Divided, Positive  Median Barrier</td>\n",
       "      <td>98</td>\n",
       "      <td>5-door/4-door hatchback</td>\n",
       "      <td>2013</td>\n",
       "      <td>Stopped in Roadway</td>\n",
       "      <td>2</td>\n",
       "      <td>Restraint Used - Type Unknown</td>\n",
       "      <td>No Indication of Mis-Use</td>\n",
       "      <td>Not Applicable</td>\n",
       "      <td>None Used/Not Applicable</td>\n",
       "      <td>Not Reported</td>\n",
       "      <td>Test Not Given</td>\n",
       "      <td>Not Reported</td>\n",
       "      <td>Not Transported</td>\n",
       "      <td>Occupant of a Motor Vehicle</td>\n",
       "      <td>Female</td>\n",
       "      <td>No Apparent Injury (O)</td>\n",
       "      <td>No (Alcohol Not Involved)</td>\n",
       "      <td>Second Seat, Right Side</td>\n",
       "      <td>87</td>\n",
       "    </tr>\n",
       "    <tr>\n",
       "      <th>1</th>\n",
       "      <td>201901180300</td>\n",
       "      <td>2</td>\n",
       "      <td>2</td>\n",
       "      <td>2</td>\n",
       "      <td>4</td>\n",
       "      <td>1</td>\n",
       "      <td>1</td>\n",
       "      <td>2019</td>\n",
       "      <td>4</td>\n",
       "      <td>10</td>\n",
       "      <td>2</td>\n",
       "      <td>1</td>\n",
       "      <td>0</td>\n",
       "      <td>1</td>\n",
       "      <td>1</td>\n",
       "      <td>1</td>\n",
       "      <td>2</td>\n",
       "      <td>Motor Vehicle In-Transport</td>\n",
       "      <td>Nissan/Datsun</td>\n",
       "      <td>No Trailing Units</td>\n",
       "      <td>998</td>\n",
       "      <td>No Damage</td>\n",
       "      <td>Not Towed</td>\n",
       "      <td>No</td>\n",
       "      <td>Two-Way, Divided, Unprotected Median</td>\n",
       "      <td>30</td>\n",
       "      <td>4-door sedan, hardtop</td>\n",
       "      <td>1999</td>\n",
       "      <td>Decelerating in Road</td>\n",
       "      <td>1</td>\n",
       "      <td>Shoulder and Lap Belt Used</td>\n",
       "      <td>No Indication of Mis-Use</td>\n",
       "      <td>Not Applicable</td>\n",
       "      <td>None Used/Not Applicable</td>\n",
       "      <td>No (Alcohol Not Involved)</td>\n",
       "      <td>Test Not Given</td>\n",
       "      <td>No (drugs not involved)</td>\n",
       "      <td>Not Transported</td>\n",
       "      <td>Occupant of a Motor Vehicle</td>\n",
       "      <td>Female</td>\n",
       "      <td>No Apparent Injury (O)</td>\n",
       "      <td>No (Alcohol Not Involved)</td>\n",
       "      <td>Front Seat, Left Side</td>\n",
       "      <td>75</td>\n",
       "    </tr>\n",
       "    <tr>\n",
       "      <th>2</th>\n",
       "      <td>201901180300</td>\n",
       "      <td>2</td>\n",
       "      <td>2</td>\n",
       "      <td>2</td>\n",
       "      <td>4</td>\n",
       "      <td>1</td>\n",
       "      <td>1</td>\n",
       "      <td>2019</td>\n",
       "      <td>4</td>\n",
       "      <td>10</td>\n",
       "      <td>2</td>\n",
       "      <td>1</td>\n",
       "      <td>0</td>\n",
       "      <td>1</td>\n",
       "      <td>1</td>\n",
       "      <td>1</td>\n",
       "      <td>2</td>\n",
       "      <td>Motor Vehicle In-Transport</td>\n",
       "      <td>Nissan/Datsun</td>\n",
       "      <td>No Trailing Units</td>\n",
       "      <td>998</td>\n",
       "      <td>No Damage</td>\n",
       "      <td>Not Towed</td>\n",
       "      <td>No</td>\n",
       "      <td>Two-Way, Divided, Unprotected Median</td>\n",
       "      <td>30</td>\n",
       "      <td>4-door sedan, hardtop</td>\n",
       "      <td>1999</td>\n",
       "      <td>Decelerating in Road</td>\n",
       "      <td>2</td>\n",
       "      <td>Shoulder and Lap Belt Used</td>\n",
       "      <td>No Indication of Mis-Use</td>\n",
       "      <td>Not Applicable</td>\n",
       "      <td>None Used/Not Applicable</td>\n",
       "      <td>No (Alcohol Not Involved)</td>\n",
       "      <td>Test Not Given</td>\n",
       "      <td>No (drugs not involved)</td>\n",
       "      <td>Not Transported</td>\n",
       "      <td>Occupant of a Motor Vehicle</td>\n",
       "      <td>Female</td>\n",
       "      <td>No Apparent Injury (O)</td>\n",
       "      <td>No (Alcohol Not Involved)</td>\n",
       "      <td>Front Seat, Right Side</td>\n",
       "      <td>75</td>\n",
       "    </tr>\n",
       "    <tr>\n",
       "      <th>3</th>\n",
       "      <td>201901182133</td>\n",
       "      <td>1</td>\n",
       "      <td>2</td>\n",
       "      <td>2</td>\n",
       "      <td>2</td>\n",
       "      <td>0</td>\n",
       "      <td>1</td>\n",
       "      <td>2019</td>\n",
       "      <td>5</td>\n",
       "      <td>13</td>\n",
       "      <td>2</td>\n",
       "      <td>0</td>\n",
       "      <td>0</td>\n",
       "      <td>1</td>\n",
       "      <td>1</td>\n",
       "      <td>1</td>\n",
       "      <td>1</td>\n",
       "      <td>Motor Vehicle In-Transport</td>\n",
       "      <td>Chevrolet</td>\n",
       "      <td>No Trailing Units</td>\n",
       "      <td>50</td>\n",
       "      <td>Minor Damage</td>\n",
       "      <td>Not Towed</td>\n",
       "      <td>No</td>\n",
       "      <td>Two-Way,  Divided, Positive  Median Barrier</td>\n",
       "      <td>50</td>\n",
       "      <td>4-door sedan, hardtop</td>\n",
       "      <td>2005</td>\n",
       "      <td>Changing Lanes</td>\n",
       "      <td>1</td>\n",
       "      <td>Shoulder and Lap Belt Used</td>\n",
       "      <td>No Indication of Mis-Use</td>\n",
       "      <td>Not Applicable</td>\n",
       "      <td>None Used/Not Applicable</td>\n",
       "      <td>No (Alcohol Not Involved)</td>\n",
       "      <td>Not Reported</td>\n",
       "      <td>No (drugs not involved)</td>\n",
       "      <td>Not Transported</td>\n",
       "      <td>Occupant of a Motor Vehicle</td>\n",
       "      <td>Female</td>\n",
       "      <td>No Apparent Injury (O)</td>\n",
       "      <td>No (Alcohol Not Involved)</td>\n",
       "      <td>Front Seat, Left Side</td>\n",
       "      <td>90</td>\n",
       "    </tr>\n",
       "    <tr>\n",
       "      <th>4</th>\n",
       "      <td>201901182257</td>\n",
       "      <td>1</td>\n",
       "      <td>1</td>\n",
       "      <td>1</td>\n",
       "      <td>1</td>\n",
       "      <td>99</td>\n",
       "      <td>1</td>\n",
       "      <td>2019</td>\n",
       "      <td>5</td>\n",
       "      <td>99</td>\n",
       "      <td>9</td>\n",
       "      <td>9</td>\n",
       "      <td>0</td>\n",
       "      <td>9</td>\n",
       "      <td>2</td>\n",
       "      <td>1</td>\n",
       "      <td>99</td>\n",
       "      <td>Harmful Event, Details Not Reported</td>\n",
       "      <td>Mercury</td>\n",
       "      <td>No Trailing Units</td>\n",
       "      <td>998</td>\n",
       "      <td>Disabling Damage</td>\n",
       "      <td>Towed Due to Disabling Damage</td>\n",
       "      <td>No</td>\n",
       "      <td>Entrance/Exit Ramp</td>\n",
       "      <td>35</td>\n",
       "      <td>4-door sedan, hardtop</td>\n",
       "      <td>2009</td>\n",
       "      <td>Unknown</td>\n",
       "      <td>1</td>\n",
       "      <td>Reported as Unknown</td>\n",
       "      <td>None Used/Not Applicable</td>\n",
       "      <td>Not Applicable</td>\n",
       "      <td>None Used/Not Applicable</td>\n",
       "      <td>Reported as Unknown</td>\n",
       "      <td>Test Not Given</td>\n",
       "      <td>Reported as Unknown</td>\n",
       "      <td>Not Transported</td>\n",
       "      <td>Occupant of a Motor Vehicle</td>\n",
       "      <td>Reported as Unknown</td>\n",
       "      <td>Unknown/Not Reported</td>\n",
       "      <td>No (Alcohol Not Involved)</td>\n",
       "      <td>Front Seat, Left Side</td>\n",
       "      <td>998</td>\n",
       "    </tr>\n",
       "  </tbody>\n",
       "</table>\n",
       "</div>"
      ],
      "text/plain": [
       "        casenum  urbancity  ve_total  ve_forms  permvit  num_inj  month  year  \\\n",
       "0  201901180165          1         2         2        3        0      1  2019   \n",
       "1  201901180300          2         2         2        4        1      1  2019   \n",
       "2  201901180300          2         2         2        4        1      1  2019   \n",
       "3  201901182133          1         2         2        2        0      1  2019   \n",
       "4  201901182257          1         1         1        1       99      1  2019   \n",
       "\n",
       "   day_week  hour  alcohol  max_sev  wrk_zone  lgt_cond  weather  veh_no  \\\n",
       "0         4     8        2        0         0         1        1       2   \n",
       "1         4    10        2        1         0         1        1       1   \n",
       "2         4    10        2        1         0         1        1       1   \n",
       "3         5    13        2        0         0         1        1       1   \n",
       "4         5    99        9        9         0         9        2       1   \n",
       "\n",
       "   numoccs                           m_harmname       makename  \\\n",
       "0        2           Motor Vehicle In-Transport         Toyota   \n",
       "1        2           Motor Vehicle In-Transport  Nissan/Datsun   \n",
       "2        2           Motor Vehicle In-Transport  Nissan/Datsun   \n",
       "3        1           Motor Vehicle In-Transport      Chevrolet   \n",
       "4       99  Harmful Event, Details Not Reported        Mercury   \n",
       "\n",
       "         tow_vehname  trav_speed      deformedname  \\\n",
       "0  No Trailing Units           0      Minor Damage   \n",
       "1  No Trailing Units         998         No Damage   \n",
       "2  No Trailing Units         998         No Damage   \n",
       "3  No Trailing Units          50      Minor Damage   \n",
       "4  No Trailing Units         998  Disabling Damage   \n",
       "\n",
       "                       towedname speedrelname  \\\n",
       "0                   Not Reported           No   \n",
       "1                      Not Towed           No   \n",
       "2                      Not Towed           No   \n",
       "3                      Not Towed           No   \n",
       "4  Towed Due to Disabling Damage           No   \n",
       "\n",
       "                                  vtrafwayname  vspd_lim  \\\n",
       "0  Two-Way,  Divided, Positive  Median Barrier        98   \n",
       "1         Two-Way, Divided, Unprotected Median        30   \n",
       "2         Two-Way, Divided, Unprotected Median        30   \n",
       "3  Two-Way,  Divided, Positive  Median Barrier        50   \n",
       "4                           Entrance/Exit Ramp        35   \n",
       "\n",
       "             bdytyp_imname  mod_year          p_crash1name  per_no  \\\n",
       "0  5-door/4-door hatchback      2013    Stopped in Roadway       2   \n",
       "1    4-door sedan, hardtop      1999  Decelerating in Road       1   \n",
       "2    4-door sedan, hardtop      1999  Decelerating in Road       2   \n",
       "3    4-door sedan, hardtop      2005        Changing Lanes       1   \n",
       "4    4-door sedan, hardtop      2009               Unknown       1   \n",
       "\n",
       "                    rest_usename              rest_misname    helm_usename  \\\n",
       "0  Restraint Used - Type Unknown  No Indication of Mis-Use  Not Applicable   \n",
       "1     Shoulder and Lap Belt Used  No Indication of Mis-Use  Not Applicable   \n",
       "2     Shoulder and Lap Belt Used  No Indication of Mis-Use  Not Applicable   \n",
       "3     Shoulder and Lap Belt Used  No Indication of Mis-Use  Not Applicable   \n",
       "4            Reported as Unknown  None Used/Not Applicable  Not Applicable   \n",
       "\n",
       "               helm_misname               drinkingname     alc_resname  \\\n",
       "0  None Used/Not Applicable               Not Reported  Test Not Given   \n",
       "1  None Used/Not Applicable  No (Alcohol Not Involved)  Test Not Given   \n",
       "2  None Used/Not Applicable  No (Alcohol Not Involved)  Test Not Given   \n",
       "3  None Used/Not Applicable  No (Alcohol Not Involved)    Not Reported   \n",
       "4  None Used/Not Applicable        Reported as Unknown  Test Not Given   \n",
       "\n",
       "                 drugsname     hospitalname                 locationname  \\\n",
       "0             Not Reported  Not Transported  Occupant of a Motor Vehicle   \n",
       "1  No (drugs not involved)  Not Transported  Occupant of a Motor Vehicle   \n",
       "2  No (drugs not involved)  Not Transported  Occupant of a Motor Vehicle   \n",
       "3  No (drugs not involved)  Not Transported  Occupant of a Motor Vehicle   \n",
       "4      Reported as Unknown  Not Transported  Occupant of a Motor Vehicle   \n",
       "\n",
       "            sex_imname           injsev_imname             peralch_imname  \\\n",
       "0               Female  No Apparent Injury (O)  No (Alcohol Not Involved)   \n",
       "1               Female  No Apparent Injury (O)  No (Alcohol Not Involved)   \n",
       "2               Female  No Apparent Injury (O)  No (Alcohol Not Involved)   \n",
       "3               Female  No Apparent Injury (O)  No (Alcohol Not Involved)   \n",
       "4  Reported as Unknown    Unknown/Not Reported  No (Alcohol Not Involved)   \n",
       "\n",
       "               seat_imname  age_im  \n",
       "0  Second Seat, Right Side      87  \n",
       "1    Front Seat, Left Side      75  \n",
       "2   Front Seat, Right Side      75  \n",
       "3    Front Seat, Left Side      90  \n",
       "4    Front Seat, Left Side     998  "
      ]
     },
     "execution_count": 5,
     "metadata": {},
     "output_type": "execute_result"
    }
   ],
   "source": [
    "# Show first 10 rows.\n",
    "pd.set_option(\"display.max_columns\", None)\n",
    "avp_df.head()"
   ]
  },
  {
   "cell_type": "code",
   "execution_count": 6,
   "metadata": {},
   "outputs": [],
   "source": [
    "# Write to CSV\n",
    "avp_df.to_csv('all_gas_no_brakes.csv')"
   ]
  },
  {
   "cell_type": "markdown",
   "metadata": {},
   "source": [
    "# PREPROCCESSING"
   ]
  },
  {
   "cell_type": "code",
   "execution_count": 7,
   "metadata": {},
   "outputs": [
    {
     "name": "stdout",
     "output_type": "stream",
     "text": [
      "<class 'pandas.core.frame.DataFrame'>\n",
      "RangeIndex: 256440 entries, 0 to 256439\n",
      "Data columns (total 44 columns):\n",
      " #   Column          Non-Null Count   Dtype \n",
      "---  ------          --------------   ----- \n",
      " 0   casenum         256440 non-null  object\n",
      " 1   urbancity       256440 non-null  int64 \n",
      " 2   ve_total        256440 non-null  int64 \n",
      " 3   ve_forms        256440 non-null  int64 \n",
      " 4   permvit         256440 non-null  int64 \n",
      " 5   num_inj         256440 non-null  int64 \n",
      " 6   month           256440 non-null  int64 \n",
      " 7   year            256440 non-null  int64 \n",
      " 8   day_week        256440 non-null  int64 \n",
      " 9   hour            256440 non-null  int64 \n",
      " 10  alcohol         256440 non-null  int64 \n",
      " 11  max_sev         256440 non-null  int64 \n",
      " 12  wrk_zone        256440 non-null  int64 \n",
      " 13  lgt_cond        256440 non-null  int64 \n",
      " 14  weather         256440 non-null  int64 \n",
      " 15  veh_no          256440 non-null  int64 \n",
      " 16  numoccs         256440 non-null  int64 \n",
      " 17  m_harmname      256440 non-null  object\n",
      " 18  makename        256440 non-null  object\n",
      " 19  tow_vehname     256440 non-null  object\n",
      " 20  trav_speed      256440 non-null  int64 \n",
      " 21  deformedname    256440 non-null  object\n",
      " 22  towedname       256440 non-null  object\n",
      " 23  speedrelname    256440 non-null  object\n",
      " 24  vtrafwayname    256440 non-null  object\n",
      " 25  vspd_lim        256440 non-null  int64 \n",
      " 26  bdytyp_imname   256440 non-null  object\n",
      " 27  mod_year        256440 non-null  int64 \n",
      " 28  p_crash1name    256440 non-null  object\n",
      " 29  per_no          256440 non-null  int64 \n",
      " 30  rest_usename    256440 non-null  object\n",
      " 31  rest_misname    256440 non-null  object\n",
      " 32  helm_usename    256440 non-null  object\n",
      " 33  helm_misname    256440 non-null  object\n",
      " 34  drinkingname    256440 non-null  object\n",
      " 35  alc_resname     256440 non-null  object\n",
      " 36  drugsname       256440 non-null  object\n",
      " 37  hospitalname    256440 non-null  object\n",
      " 38  locationname    256440 non-null  object\n",
      " 39  sex_imname      256440 non-null  object\n",
      " 40  injsev_imname   256440 non-null  object\n",
      " 41  peralch_imname  256440 non-null  object\n",
      " 42  seat_imname     256440 non-null  object\n",
      " 43  age_im          256440 non-null  int64 \n",
      "dtypes: int64(21), object(23)\n",
      "memory usage: 86.1+ MB\n"
     ]
    }
   ],
   "source": [
    "# Describe Data\n",
    "avp_df.info()"
   ]
  },
  {
   "cell_type": "code",
   "execution_count": 8,
   "metadata": {},
   "outputs": [
    {
     "data": {
      "text/plain": [
       "array([0, 1], dtype=int64)"
      ]
     },
     "execution_count": 8,
     "metadata": {},
     "output_type": "execute_result"
    }
   ],
   "source": [
    "# Recode Urban City : 0 = urban, 1 = city\n",
    "avp_df['urbancity'] = avp_df['urbancity'].replace(1,0)\n",
    "avp_df['urbancity'] = avp_df['urbancity'].replace(2,1)\n",
    "avp_df['urbancity'].unique()"
   ]
  },
  {
   "cell_type": "code",
   "execution_count": 9,
   "metadata": {},
   "outputs": [
    {
     "data": {
      "text/plain": [
       "array(['Jan', 'Feb', 'Mar', 'Apr', 'May', 'Jun', 'Jul', 'Aug', 'Sep',\n",
       "       'Oct', 'Nov', 'Dec'], dtype=object)"
      ]
     },
     "execution_count": 9,
     "metadata": {},
     "output_type": "execute_result"
    }
   ],
   "source": [
    "# Recode Month : 1 = Jan, 12 = Dec\n",
    "avp_df['month']= avp_df['month'].replace([1,2,3,4,5,6,7,8,9,10,11,12],['Jan','Feb','Mar','Apr','May',\n",
    "                                                                             'Jun','Jul','Aug','Sep','Oct','Nov','Dec'])\n",
    "avp_df['month'].unique()"
   ]
  },
  {
   "cell_type": "code",
   "execution_count": 10,
   "metadata": {},
   "outputs": [
    {
     "data": {
      "text/plain": [
       "array(['Wed', 'Thus', 'Sun', 'Fri', 'Mon', 'Tues', 'Sat'], dtype=object)"
      ]
     },
     "execution_count": 10,
     "metadata": {},
     "output_type": "execute_result"
    }
   ],
   "source": [
    "# Recode Day of the week 1= Sunday, 7 = Saturday\n",
    "avp_df['day_week']= avp_df['day_week'].replace([1,2,3,4,5,6,7],['Sun','Mon','Tues','Wed','Thus','Fri','Sat'])\n",
    "avp_df['day_week'].unique()"
   ]
  },
  {
   "cell_type": "code",
   "execution_count": 11,
   "metadata": {},
   "outputs": [
    {
     "data": {
      "text/plain": [
       "array([0, 1], dtype=int64)"
      ]
     },
     "execution_count": 11,
     "metadata": {},
     "output_type": "execute_result"
    }
   ],
   "source": [
    "# Recode Alcohol - accident level 1= alcohol involved, 2,8,9 =  no alcohol\n",
    "avp_df['alcohol'] = avp_df['alcohol'].replace([1,2,8,9],[1,0,0,0])\n",
    "avp_df['alcohol'].unique()"
   ]
  },
  {
   "cell_type": "code",
   "execution_count": 12,
   "metadata": {},
   "outputs": [
    {
     "data": {
      "text/plain": [
       "array(['none', 'minor', 'serious', 'fatal'], dtype=object)"
      ]
     },
     "execution_count": 12,
     "metadata": {},
     "output_type": "execute_result"
    }
   ],
   "source": [
    "# Recode max severity - accident level 0,8,9 = none, 1,2,5 = minor, 3 = serious, 4,6 = fatal\n",
    "avp_df['max_sev']=avp_df['max_sev'].replace([0,8,9,1,2,5,3,4,6],['none', 'none','none','minor','minor',\n",
    "                                                                 'minor','serious','fatal','fatal'])\n",
    "avp_df['max_sev'].unique()"
   ]
  },
  {
   "cell_type": "code",
   "execution_count": 13,
   "metadata": {},
   "outputs": [
    {
     "data": {
      "text/plain": [
       "array([0, 1], dtype=int64)"
      ]
     },
     "execution_count": 13,
     "metadata": {},
     "output_type": "execute_result"
    }
   ],
   "source": [
    "# Recode work zone 0 = no (0), 1,2,3,4 = yes (1)\n",
    "avp_df['wrk_zone'] = avp_df['wrk_zone'].replace([0,1,2,3,4],[0,1,1,1,1])\n",
    "avp_df['wrk_zone'].unique()"
   ]
  },
  {
   "cell_type": "code",
   "execution_count": 14,
   "metadata": {},
   "outputs": [
    {
     "data": {
      "text/plain": [
       "array(['daylight', 'other', 'dark', 'dawn', 'dusk'], dtype=object)"
      ]
     },
     "execution_count": 14,
     "metadata": {},
     "output_type": "execute_result"
    }
   ],
   "source": [
    "# Recode lighting conditions 1= daylight, 2,3,6 = dark, 4=dawn 5=dusk, 7,8,9 = other\n",
    "avp_df['lgt_cond']= avp_df['lgt_cond'].replace([1,2,3,6,4,5,7,8,9],['daylight','dark','dark','dark','dawn','dusk',\n",
    "                                                                     'other','other','other'])\n",
    "avp_df['lgt_cond'].unique()"
   ]
  },
  {
   "cell_type": "code",
   "execution_count": 15,
   "metadata": {},
   "outputs": [
    {
     "data": {
      "text/plain": [
       "array(['clear', 'rain_sleet', 'cloudy', 'other', 'fog_smoke',\n",
       "       'snow_blowsnow', 'windy', 'freezing_rain', 'blowing_dirt'],\n",
       "      dtype=object)"
      ]
     },
     "execution_count": 15,
     "metadata": {},
     "output_type": "execute_result"
    }
   ],
   "source": [
    "# Recode weather 1 = clear 2,3 = rain/sleet/hail, 4,11 = snow, 5 = fog/smoke, 6=windy, 7=blowing dirt, \n",
    "# 10=cloudy, 12=freezing rain, 8, 98, 99 = other\n",
    "avp_df['weather']=avp_df['weather'].replace([1,2,3,4,11,5,6,7,10,12,8,98,99],['clear','rain_sleet','rain_sleet',\n",
    "                                                                              'snow_blowsnow','snow_blowsnow',\n",
    "                                                                              'fog_smoke','windy','blowing_dirt','cloudy',\n",
    "                                                                              'freezing_rain','other','other','other'])\n",
    "avp_df['weather'].unique()"
   ]
  },
  {
   "cell_type": "code",
   "execution_count": 16,
   "metadata": {},
   "outputs": [
    {
     "data": {
      "text/plain": [
       "array(['Motor Vehicle In-Transport',\n",
       "       'Harmful Event, Details Not Reported', 'Tree (Standing Only)',\n",
       "       'Parked Motor Vehicle', 'Pedestrian', 'Wall', 'Live Animal',\n",
       "       'Pedalcyclist', 'Traffic Sign Support', 'Shrubbery',\n",
       "       'Bridge Rail (Includes parapet)', 'Rollover/Overturn', 'Curb',\n",
       "       'Embankment',\n",
       "       'Motor Vehicle In-Transport Strikes or is Struck by Cargo, Persons or Objects Set-in-Motion from/by Another Motor Vehicle In Transport',\n",
       "       'Cable Barrier', 'Fence', 'Utility Pole/Light Support', 'Ditch',\n",
       "       'Guardrail Face', 'Culvert', 'Traffic Signal Support',\n",
       "       'Concrete Traffic Barrier', 'Post, Pole or Other Supports',\n",
       "       'Boulder', 'Fire Hydrant', 'Mail Box', 'Fell/Jumped from Vehicle',\n",
       "       'Other Fixed Object', 'Non-Motorist on Personal Conveyance',\n",
       "       'Other Object (not fixed)', 'Reported as Unknown',\n",
       "       'Jackknife (harmful to this vehicle)', 'Guardrail End', 'Building',\n",
       "       'Other Non-Collision',\n",
       "       'Pavement Surface Irregularity (Ruts, Potholes, Grates, etc.)',\n",
       "       'Other Traffic Barrier', 'Snow Bank',\n",
       "       'Object That Had Fallen From Motor Vehicle In-Transport', 'Ground',\n",
       "       'Unknown Fixed Object',\n",
       "       'Cargo/Equipment Loss, Shift, or Damage [harmful]',\n",
       "       'Bridge Pier or Support', 'Working Motor Vehicle',\n",
       "       'Unknown Object Not Fixed', 'Fire/Explosion',\n",
       "       'Immersion or Partial Immersion',\n",
       "       'Impact Attenuator/Crash Cushion', 'Bridge Overhead Structure',\n",
       "       'Thrown or Falling Object', 'Injured In Vehicle (Non-Collision)',\n",
       "       'Railway Vehicle', 'Ridden Animal or Animal Drawn Conveyance',\n",
       "       'Motor Vehicle in Motion Outside the Trafficway',\n",
       "       'Road Vehicle on Rails'], dtype=object)"
      ]
     },
     "execution_count": 16,
     "metadata": {},
     "output_type": "execute_result"
    }
   ],
   "source": [
    "avp_df['m_harmname'].unique()"
   ]
  },
  {
   "cell_type": "code",
   "execution_count": 17,
   "metadata": {},
   "outputs": [
    {
     "data": {
      "text/plain": [
       "array(['harm_moving_veh', 'harm_unknown', 'harm_nat_object',\n",
       "       'harm_parked_veh', 'harm_ped_animal', 'harm_barrier',\n",
       "       'harm_fixed_manmade', 'harm_lost_control', 'harm_terrain',\n",
       "       'harm_object', 'harm_injury_fallout', 'harm_fire', 'harm_water',\n",
       "       'harm_train'], dtype=object)"
      ]
     },
     "execution_count": 17,
     "metadata": {},
     "output_type": "execute_result"
    }
   ],
   "source": [
    "# Recode most harmful event - vehicle level\n",
    "avp_df['m_harmname'] = avp_df['m_harmname'].replace([\n",
    "   'Motor Vehicle In-Transport',\n",
    "    'Motor Vehicle in Motion Outside the Trafficway',\n",
    "    'Working Motor Vehicle',\n",
    "    \n",
    "    'Parked Motor Vehicle', \n",
    "    \n",
    "    'Pedalcyclist',\n",
    "    'Pedestrian',\n",
    "    'Non-Motorist on Personal Conveyance',\n",
    "    'Ridden Animal or Animal Drawn Conveyance',\n",
    "    'Live Animal',\n",
    "    \n",
    "    'Traffic Sign Support',\n",
    "    'Utility Pole/Light Support',\n",
    "    'Bridge Pier or Support',\n",
    "    'Guardrail End',\n",
    "    'Post, Pole or Other Supports',\n",
    "    'Impact Attenuator/Crash Cushion',\n",
    "    'Fire Hydrant',\n",
    "    'Other Fixed Object',\n",
    "    'Unknown Fixed Object',\n",
    "    'Mail Box',\n",
    "    'Traffic Signal Support',\n",
    "    'Bridge Overhead Structure',\n",
    "    'Building',\n",
    "    \n",
    "    'Bridge Rail (Includes parapet)',\n",
    "    'Curb', \n",
    "    'Guardrail Face',\n",
    "    'Concrete Traffic Barrier',\n",
    "    'Other Traffic Barrier',\n",
    "    'Wall', \n",
    "    'Cable Barrier',\n",
    "    'Fence',\n",
    "    \n",
    "    'Shrubbery',\n",
    "    'Tree (Standing Only)',\n",
    "    'Boulder',\n",
    "    'Snow Bank',\n",
    "    \n",
    "    'Embankment',\n",
    "    'Ditch', \n",
    "    'Ground',\n",
    "    'Culvert',\n",
    "    \n",
    "    'Fire/Explosion',\n",
    "    \n",
    "    'Motor Vehicle In-Transport Strikes or is Struck by Cargo, Persons or Objects Set-in-Motion from/by Another Motor Vehicle In Transport',\n",
    "    'Object That Had Fallen From Motor Vehicle In-Transport',\n",
    "    'Unknown Object Not Fixed',\n",
    "    'Thrown or Falling Object',\n",
    "    'Other Object (not fixed)',\n",
    "    \n",
    "    'Immersion or Partial Immersion',\n",
    "    \n",
    "    'Reported as Unknown',\n",
    "    'Harmful Event, Details Not Reported',\n",
    "    \n",
    "    'Pavement Surface Irregularity (Ruts, Potholes, Grates, etc.)',\n",
    "    'Jackknife (harmful to this vehicle)',\n",
    "    'Other Non-Collision',\n",
    "    'Cargo/Equipment Loss, Shift, or Damage [harmful]',\n",
    "    'Rollover/Overturn',\n",
    "    \n",
    "    'Injured In Vehicle (Non-Collision)',\n",
    "    'Fell/Jumped from Vehicle', \n",
    "    \n",
    "     'Railway Vehicle',\n",
    "    'Road Vehicle on Rails'    \n",
    "],\n",
    "[\n",
    "    'harm_moving_veh',\n",
    "    'harm_moving_veh',\n",
    "    'harm_moving_veh',\n",
    "    \n",
    "    'harm_parked_veh',\n",
    "    \n",
    "    'harm_ped_animal',\n",
    "    'harm_ped_animal',\n",
    "    'harm_ped_animal',\n",
    "    'harm_ped_animal',\n",
    "    'harm_ped_animal',\n",
    "    \n",
    "    'harm_fixed_manmade',\n",
    "    'harm_fixed_manmade',\n",
    "    'harm_fixed_manmade',\n",
    "    'harm_fixed_manmade',\n",
    "    'harm_fixed_manmade',\n",
    "    'harm_fixed_manmade',\n",
    "    'harm_fixed_manmade',\n",
    "    'harm_fixed_manmade',\n",
    "    'harm_fixed_manmade',\n",
    "    'harm_fixed_manmade',\n",
    "    'harm_fixed_manmade',\n",
    "    'harm_fixed_manmade',\n",
    "    'harm_fixed_manmade',\n",
    "    \n",
    "    'harm_barrier',\n",
    "    'harm_barrier',\n",
    "    'harm_barrier',\n",
    "    'harm_barrier',\n",
    "    'harm_barrier',\n",
    "    'harm_barrier',\n",
    "    'harm_barrier',\n",
    "    'harm_barrier',\n",
    "    \n",
    "    'harm_nat_object',\n",
    "    'harm_nat_object',\n",
    "    'harm_nat_object',\n",
    "    'harm_nat_object',\n",
    "    \n",
    "    'harm_terrain',\n",
    "    'harm_terrain',\n",
    "    'harm_terrain',\n",
    "    'harm_terrain',\n",
    "    \n",
    "    'harm_fire',\n",
    "    \n",
    "    'harm_object',\n",
    "    'harm_object',\n",
    "    'harm_object',\n",
    "    'harm_object',\n",
    "    'harm_object',\n",
    "    \n",
    "    'harm_water',\n",
    "    \n",
    "    'harm_unknown',\n",
    "    'harm_unknown',\n",
    "    \n",
    "    'harm_lost_control',\n",
    "    'harm_lost_control',\n",
    "    'harm_lost_control',\n",
    "    'harm_lost_control',\n",
    "    'harm_lost_control',\n",
    "    \n",
    "    'harm_injury_fallout',\n",
    "    'harm_injury_fallout',\n",
    "    \n",
    "    'harm_train',\n",
    "    'harm_train'    \n",
    "])\n",
    "avp_df['m_harmname'].unique()"
   ]
  },
  {
   "cell_type": "code",
   "execution_count": 18,
   "metadata": {},
   "outputs": [
    {
     "data": {
      "text/plain": [
       "array(['Toyota', 'Nissan/Datsun', 'Chevrolet', 'Mercury', 'AM General',\n",
       "       'Dodge', 'Mazda', 'Ford', 'Honda', 'Lexus', 'GMC', 'Subaru',\n",
       "       'Buick / Opel', 'KIA', 'Pontiac', 'Acura', 'Mercedes-Benz',\n",
       "       'Kenworth', 'Hyundai', 'Unknown Make', 'Cadillac', 'Audi',\n",
       "       'Mitsubishi', 'International Harvester/Navistar', 'Gillig',\n",
       "       'Other Make', 'Saturn', 'Chrysler', 'Lincoln', 'Infiniti',\n",
       "       'Volkswagen', 'Jeep / Kaiser-Jeep / Willys- Jeep', 'Scion',\n",
       "       'Harley-Davidson', 'BMW', 'Freightliner', 'Suzuki', 'Bluebird',\n",
       "       'Peterbilt', 'Volvo', 'Land Rover', 'Yamaha', 'Kawasaki',\n",
       "       'Not Reported', 'Porsche', 'Isuzu', 'Triumph', 'Grumman',\n",
       "       'Other Import', 'Mack', 'Oldsmobile',\n",
       "       'Other Domestic Manufacturers', 'Jaguar', 'Saab', 'Smart', 'MCI',\n",
       "       'Fiat', 'Ducati', 'Victory', 'Plymouth', 'White/Autocar White/GMC',\n",
       "       'Eagle', 'Thomas Built', 'Alfa Romeo', 'Moto-Guzzi', 'Daewoo',\n",
       "       'American Motors'], dtype=object)"
      ]
     },
     "execution_count": 18,
     "metadata": {},
     "output_type": "execute_result"
    }
   ],
   "source": [
    "avp_df['makename'].unique()"
   ]
  },
  {
   "cell_type": "code",
   "execution_count": 19,
   "metadata": {},
   "outputs": [
    {
     "data": {
      "text/plain": [
       "array(['make_Japan', 'make_US', 'make_US_truck', 'make_Korea',\n",
       "       'make_Germany', 'make_other', 'make_motorcycle', 'make_Sweden',\n",
       "       'make_England', 'make_Italy', 'make_China'], dtype=object)"
      ]
     },
     "execution_count": 19,
     "metadata": {},
     "output_type": "execute_result"
    }
   ],
   "source": [
    "# Recode vehicle make as make_country\n",
    "avp_df['make_country'] = avp_df['makename'].replace([\n",
    "    'Toyota',\n",
    "    'Honda',\n",
    "    'Subaru',\n",
    "    'Nissan/Datsun',\n",
    "    'Acura',\n",
    "    'Suzuki',\n",
    "    'Lexus',\n",
    "    'Mazda', \n",
    "    'Mitsubishi', \n",
    "    'Infiniti', \n",
    "    'Isuzu',\n",
    "    'Scion',\n",
    "    \n",
    "    'KIA',\n",
    "    'Daewoo',\n",
    "    'Hyundai',\n",
    "    \n",
    "    'Chevrolet', \n",
    "    'Ford',\n",
    "    'Pontiac',\n",
    "    'Cadillac',\n",
    "    'Dodge', \n",
    "    'Chrysler', \n",
    "    'GMC',\n",
    "    'Jeep / Kaiser-Jeep / Willys- Jeep', \n",
    "    'Buick / Opel',\n",
    "    'Other Domestic Manufacturers', \n",
    "    'Lincoln',\n",
    "    'Oldsmobile', \n",
    "    'Mercury',\n",
    "    'Plymouth', \n",
    "    'Eagle', \n",
    "    'American Motors',\n",
    "    'Saturn',\n",
    "    \n",
    "    'Freightliner', \n",
    "    'AM General', \n",
    "    'International Harvester/Navistar',\n",
    "    'Peterbilt',\n",
    "    'Mack',\n",
    "    'Kenworth',\n",
    "    'Thomas Built', \n",
    "    'Bluebird',\n",
    "    'White/Autocar White/GMC',\n",
    "    'Gillig', \n",
    "    'MCI',\n",
    "    'Grumman',\n",
    "    \n",
    "    'Mercedes-Benz',\n",
    "    'Volkswagen',\n",
    "    'Audi',\n",
    "    'BMW', \n",
    "    'Smart',\n",
    "    'Porsche',\n",
    "    \n",
    "    'Victory',\n",
    "    \n",
    "    'Volvo',\n",
    "    'Saab', \n",
    "    \n",
    "    'Ducati', \n",
    "    'Harley-Davidson', \n",
    "    'Yamaha', \n",
    "    'Kawasaki',\n",
    "    'Moto-Guzzi',\n",
    "    \n",
    "    'Jaguar',\n",
    "    'Land Rover',\n",
    "    'Triumph', \n",
    "    \n",
    "    'Alfa Romeo',\n",
    "    'Fiat',\n",
    "    \n",
    "    'Other Import',\n",
    "    'Other Make',\n",
    "    'Unknown Make',\n",
    "    'Not Reported',\n",
    "],\n",
    "[\n",
    "    'make_Japan',\n",
    "    'make_Japan',\n",
    "    'make_Japan',\n",
    "    'make_Japan',\n",
    "    'make_Japan',\n",
    "    'make_Japan',\n",
    "    'make_Japan',\n",
    "    'make_Japan',\n",
    "    'make_Japan',\n",
    "    'make_Japan',\n",
    "    'make_Japan',\n",
    "    'make_Japan',\n",
    "    \n",
    "    'make_Korea',\n",
    "    'make_Korea',\n",
    "    'make_Korea',\n",
    "    \n",
    "    'make_US',\n",
    "    'make_US',\n",
    "    'make_US',\n",
    "    'make_US',\n",
    "    'make_US',\n",
    "    'make_US',\n",
    "    'make_US',\n",
    "    'make_US',\n",
    "    'make_US',\n",
    "    'make_US',\n",
    "    'make_US',\n",
    "    'make_US',\n",
    "    'make_US',\n",
    "    'make_US',\n",
    "    'make_US',\n",
    "    'make_US',\n",
    "    'make_US',\n",
    "    \n",
    "    'make_US_truck',\n",
    "    'make_US_truck',\n",
    "    'make_US_truck',\n",
    "    'make_US_truck',\n",
    "    'make_US_truck',\n",
    "    'make_US_truck',\n",
    "    'make_US_truck',\n",
    "    'make_US_truck',\n",
    "    'make_US_truck',\n",
    "    'make_US_truck',\n",
    "    'make_US_truck',\n",
    "    'make_US_truck',\n",
    "    \n",
    "    'make_Germany',\n",
    "    'make_Germany',\n",
    "    'make_Germany',\n",
    "    'make_Germany',\n",
    "    'make_Germany',\n",
    "    'make_Germany',\n",
    "    \n",
    "    'make_China',\n",
    "    \n",
    "    'make_Sweden',\n",
    "    'make_Sweden',\n",
    "    \n",
    "    'make_motorcycle',\n",
    "    'make_motorcycle',\n",
    "    'make_motorcycle',\n",
    "    'make_motorcycle',\n",
    "    'make_motorcycle',\n",
    "    \n",
    "    'make_England',\n",
    "    'make_England',\n",
    "    'make_England',\n",
    "    \n",
    "    'make_Italy',\n",
    "    'make_Italy',\n",
    "    \n",
    "    'make_other',\n",
    "    'make_other',\n",
    "    'make_other',\n",
    "    'make_other',    \n",
    "])\n",
    "avp_df['make_country'].unique()"
   ]
  },
  {
   "cell_type": "code",
   "execution_count": 20,
   "metadata": {},
   "outputs": [
    {
     "data": {
      "text/plain": [
       "array([0, 1], dtype=int64)"
      ]
     },
     "execution_count": 20,
     "metadata": {},
     "output_type": "execute_result"
    }
   ],
   "source": [
    "# Recode tow_vehname - towing a vehichle 0 = no, 1 = yes\n",
    "avp_df['tow_vehname']=avp_df['tow_vehname'].replace([\n",
    "    'No Trailing Units',\n",
    "    'One Trailing Unit',\n",
    "    'Unknown',\n",
    "    'Two Trailing Units',\n",
    "    'Vehicle Towing Another Motor Vehicle - Non-Fixed Linkage',\n",
    "    'Three or More Trailing Units',\n",
    "    'Vehicle Towing Another Motor Vehicle - Fixed Linkage',\n",
    "    'Yes, Number of Trailing Units Unknown'\n",
    "],\n",
    "[0,1,1,1,1,1,1,1])\n",
    "avp_df['tow_vehname'].unique()"
   ]
  },
  {
   "cell_type": "code",
   "execution_count": 21,
   "metadata": {},
   "outputs": [
    {
     "data": {
      "text/plain": [
       "count    126350.000000\n",
       "mean         22.381559\n",
       "std          22.198566\n",
       "min           0.000000\n",
       "25%           0.000000\n",
       "50%          15.000000\n",
       "75%          40.000000\n",
       "max         150.000000\n",
       "Name: trav_speed_temp, dtype: float64"
      ]
     },
     "execution_count": 21,
     "metadata": {},
     "output_type": "execute_result"
    }
   ],
   "source": [
    "# Determine median speed for imputing for unknown travel Speed\n",
    "avp_df['trav_speed_temp'] = avp_df['trav_speed']\n",
    "avp_df['trav_speed_temp'] = avp_df['trav_speed_temp'].replace([997,998,999],[np.NaN,np.NaN,np.NaN])\n",
    "avp_df['trav_speed_temp'].describe()"
   ]
  },
  {
   "cell_type": "code",
   "execution_count": 22,
   "metadata": {},
   "outputs": [
    {
     "data": {
      "text/plain": [
       "count    256440.000000\n",
       "mean         22.697348\n",
       "std          15.593666\n",
       "min           0.000000\n",
       "25%          15.000000\n",
       "50%          23.000000\n",
       "75%          23.000000\n",
       "max         155.000000\n",
       "Name: trav_speed, dtype: float64"
      ]
     },
     "execution_count": 22,
     "metadata": {},
     "output_type": "execute_result"
    }
   ],
   "source": [
    "# Replace unknown travel speed with median travel speed \n",
    "avp_df['trav_speed']=avp_df['trav_speed'].replace([997,998,999],[155,23,23])\n",
    "avp_df['trav_speed'].describe()"
   ]
  },
  {
   "cell_type": "code",
   "execution_count": 23,
   "metadata": {},
   "outputs": [
    {
     "data": {
      "text/plain": [
       "array(['Minor Damage', 'No Damage', 'Disabling Damage',\n",
       "       'Functional Damage'], dtype=object)"
      ]
     },
     "execution_count": 23,
     "metadata": {},
     "output_type": "execute_result"
    }
   ],
   "source": [
    "# Recode deformedname\n",
    "avp_df['deformedname']=avp_df['deformedname'].replace([\n",
    "    'Not Reported',\n",
    "    'Reported as Unknown'\n",
    "],\n",
    "[\n",
    "    'Minor Damage',\n",
    "    'Minor Damage'\n",
    "])\n",
    "avp_df['deformedname'].unique()"
   ]
  },
  {
   "cell_type": "code",
   "execution_count": 24,
   "metadata": {},
   "outputs": [
    {
     "data": {
      "text/plain": [
       "array([0, 1], dtype=int64)"
      ]
     },
     "execution_count": 24,
     "metadata": {},
     "output_type": "execute_result"
    }
   ],
   "source": [
    "# Recode towed Name 0 = no 1 = yes\n",
    "avp_df['towedname']=avp_df['towedname'].replace([\n",
    "    'Towed Due to Disabling Damage',\n",
    "    'Not Towed',\n",
    "    'Towed Not Due to Disabling Damage',\n",
    "    'Towed, Unknown Reason',\n",
    "    'Not Reported',\n",
    "    'Towed But Not Due to Disabling Damage',\n",
    "    'Reported as Unknown'\n",
    "],[1,0,1,1,0,1,0])\n",
    "avp_df['towedname'].unique()"
   ]
  },
  {
   "cell_type": "code",
   "execution_count": 25,
   "metadata": {},
   "outputs": [
    {
     "data": {
      "text/plain": [
       "array(['No', 'Reported as Unknown', 'Yes, Too Fast for Conditions',\n",
       "       'Yes, Specifics Unknown', 'Yes, Exceeded Speed Limit',\n",
       "       'No Driver Present/Unknown if Driver Present', 'Yes, Racing'],\n",
       "      dtype=object)"
      ]
     },
     "execution_count": 25,
     "metadata": {},
     "output_type": "execute_result"
    }
   ],
   "source": [
    "avp_df['speedrelname'].unique()"
   ]
  },
  {
   "cell_type": "code",
   "execution_count": 26,
   "metadata": {},
   "outputs": [
    {
     "data": {
      "text/plain": [
       "array([0, 1], dtype=int64)"
      ]
     },
     "execution_count": 26,
     "metadata": {},
     "output_type": "execute_result"
    }
   ],
   "source": [
    "# Recode speed related 0 = n 1 = y\n",
    "avp_df['speedrelname']=avp_df['speedrelname'].replace([\n",
    "    'No', \n",
    "    'Yes, Too Fast for Conditions',\n",
    "    'Reported as Unknown',\n",
    "    'Yes, Exceeded Speed Limit',\n",
    "    'Yes, Specifics Unknown',\n",
    "    'No Driver Present/Unknown if Driver Present', \n",
    "    'Yes, Racing'\n",
    "],[0,1,0,1,1,0,1])\n",
    "avp_df['speedrelname'].unique()"
   ]
  },
  {
   "cell_type": "code",
   "execution_count": 27,
   "metadata": {},
   "outputs": [
    {
     "data": {
      "text/plain": [
       "array(['Two-Way,  Divided, Positive  Median Barrier',\n",
       "       'Two-Way, Divided, Unprotected Median', 'Entrance/Exit Ramp',\n",
       "       'Two-Way, Not Divided With a Continuous Left-Turn Lane',\n",
       "       'Two-Way, Not Divided', 'Non-Trafficway or Driveway Access',\n",
       "       'One-Way Trafficway', 'Not Reported', 'Reported as Unknown'],\n",
       "      dtype=object)"
      ]
     },
     "execution_count": 27,
     "metadata": {},
     "output_type": "execute_result"
    }
   ],
   "source": [
    "avp_df['vtrafwayname'].unique()"
   ]
  },
  {
   "cell_type": "code",
   "execution_count": 28,
   "metadata": {},
   "outputs": [
    {
     "data": {
      "text/plain": [
       "array(['Two_way_div_med_bar', 'Two_way_div_med_nobar', 'Exit_on_ramp',\n",
       "       'Two-way', 'Two_way', 'Parking_lot_driveway', 'One-way'],\n",
       "      dtype=object)"
      ]
     },
     "execution_count": 28,
     "metadata": {},
     "output_type": "execute_result"
    }
   ],
   "source": [
    "# Recode traffic way name \n",
    "avp_df['vtrafwayname']=avp_df['vtrafwayname'].replace([\n",
    "    'Two-Way, Divided, Unprotected Median',\n",
    "    'Not Reported',\n",
    "    'Two-Way,  Divided, Positive  Median Barrier',\n",
    "    'Two-Way, Not Divided',\n",
    "    'Two-Way, Not Divided With a Continuous Left-Turn Lane',\n",
    "    'Non-Trafficway or Driveway Access',\n",
    "    'Entrance/Exit Ramp',\n",
    "    'One-Way Trafficway', \n",
    "    'Reported as Unknown'\n",
    "],\n",
    "[\n",
    "    'Two_way_div_med_nobar',\n",
    "    'Two_way',\n",
    "    'Two_way_div_med_bar',\n",
    "    'Two_way',\n",
    "    'Two-way',\n",
    "    'Parking_lot_driveway',\n",
    "    'Exit_on_ramp',\n",
    "    'One-way',\n",
    "    'Two-way'\n",
    "])\n",
    "avp_df['vtrafwayname'].unique()"
   ]
  },
  {
   "cell_type": "code",
   "execution_count": 29,
   "metadata": {},
   "outputs": [
    {
     "data": {
      "text/plain": [
       "45    47465\n",
       "35    42468\n",
       "98    34694\n",
       "40    24797\n",
       "55    23671\n",
       "25    20691\n",
       "30    15468\n",
       "65    12710\n",
       "70    11755\n",
       "50     7727\n",
       "0      6416\n",
       "60     3798\n",
       "20     1461\n",
       "15     1445\n",
       "75      681\n",
       "10      466\n",
       "80      303\n",
       "99      241\n",
       "5       182\n",
       "90        1\n",
       "Name: vspd_lim, dtype: int64"
      ]
     },
     "execution_count": 29,
     "metadata": {},
     "output_type": "execute_result"
    }
   ],
   "source": [
    "avp_df['vspd_lim'].value_counts()"
   ]
  },
  {
   "cell_type": "code",
   "execution_count": 30,
   "metadata": {},
   "outputs": [
    {
     "data": {
      "text/plain": [
       "45    82400\n",
       "35    42468\n",
       "40    24797\n",
       "55    23671\n",
       "25    20691\n",
       "30    15468\n",
       "65    12710\n",
       "70    11755\n",
       "50     7727\n",
       "0      6416\n",
       "60     3798\n",
       "20     1461\n",
       "15     1445\n",
       "75      681\n",
       "10      466\n",
       "80      303\n",
       "5       182\n",
       "90        1\n",
       "Name: vspd_lim, dtype: int64"
      ]
     },
     "execution_count": 30,
     "metadata": {},
     "output_type": "execute_result"
    }
   ],
   "source": [
    "# Recode speed limits (impute with the mode = 45)\n",
    "avp_df['vspd_lim']=avp_df['vspd_lim'].replace([98,99],[45,45])\n",
    "avp_df['vspd_lim'].value_counts()"
   ]
  },
  {
   "cell_type": "code",
   "execution_count": 31,
   "metadata": {},
   "outputs": [
    {
     "data": {
      "text/plain": [
       "array(['5-door/4-door hatchback', '4-door sedan, hardtop',\n",
       "       'Compact Utility (Utility Vehicle Categories Small and Midsize)',\n",
       "       'Light Pickup',\n",
       "       'Minivan (Chrysler Town and Country, Caravan, Grand Caravan, Voyager, Voyager, Honda-Odyssey, ...)',\n",
       "       'Large utility (ANSI D16.1 Utility Vehicle Categories and Full Size and Large)',\n",
       "       'Station Wagon (excluding van and truck based)',\n",
       "       'Single-unit straight truck or Cab-Chassis (GVWR greater than 26,000 lbs.)',\n",
       "       'Unknown body type',\n",
       "       'Utility station wagon (includes suburban limousines, Suburban, Travellall, Grand Wagoneer)',\n",
       "       '2-door sedan,hardtop,coupe',\n",
       "       'Truck-tractor (Cab only, or with any number of trailing unit; any weight)',\n",
       "       'Transit Bus (City Bus)', 'Moped or motorized bicycle',\n",
       "       'Motor Scooter', 'Other or Unknown automobile type',\n",
       "       'Sedan/Hardtop, number of doors unknown',\n",
       "       '3-door/2-door hatchback', 'Convertible(excludes sun-roof,t-bar)',\n",
       "       'Two Wheel Motorcycle (excluding motor scooters)',\n",
       "       'Medium/heavy Pickup (GVWR greater than 10,000 lbs.)',\n",
       "       'Unknown (pickup style) light conventional truck type',\n",
       "       'Unknown light vehicle type (automobile,utility vehicle, van, or light truck)',\n",
       "       'Unknown truck type (light/medium/heavy)',\n",
       "       'Large Van-Includes van-based buses (B150-B350, Sportsman, Royal Maxiwagon, Ram, Tradesman,...)',\n",
       "       'School Bus',\n",
       "       'Single-unit straight truck or Cab-Chassis (GVWR range 19,501 to 26,000 lbs.)',\n",
       "       'Utility Vehicle, Unknown body type',\n",
       "       'Unknown medium/heavy truck type',\n",
       "       'Single-unit straight truck or Cab-Chassis (GVWR unknown)',\n",
       "       'Unknown Bus Type', 'Not Reported',\n",
       "       'Single-unit straight truck or Cab-Chassis (GVWR range 10,001 to 19,500 lbs.)',\n",
       "       'Unknown light truck type',\n",
       "       'Camper or motorhome, unknown truck type', 'Unknown van type',\n",
       "       'Unknown motored cycle type', 'Off-road Motorcycle',\n",
       "       'Step-van or walk-in van (GVWR less than or equal to 10,000 lbs.)',\n",
       "       'Step van (GVWR greater than 10,000 lbs.)',\n",
       "       'Medium/heavy truck based motorhome',\n",
       "       'Three-wheel Motorcycle (2 Rear Wheels)',\n",
       "       'Farm equipment other than trucks', 'ATV/ATC [All-Terrain Cycle]',\n",
       "       'Recreational Off-Highway Vehicle', 'Other Bus Type',\n",
       "       'Van-Based Bus GVWR greater than 10,000 lbs.',\n",
       "       'Low Speed Vehicle (LSV) / Neighborhood Electric Vehicle (NEV)',\n",
       "       'Cab Chassis Based (includes Rescue Vehicle, Light Stake, Dump, and Tow Truck)',\n",
       "       'Medium/Heavy Vehicle Based Motor Home',\n",
       "       'Other van type (Hi-Cube Van, Kary)',\n",
       "       'Hatchback, number of doors unknown', '3-door coupe',\n",
       "       'Auto-based pickup (includes E1 Camino, Caballero, Ranchero, SSR, G8-ST, Subaru Brat, Rabbit Pickup)',\n",
       "       'Unknown if single-unit or combination unit Medium Truck (GVWR range 10,001 lbs. to 26,000 lbs.)',\n",
       "       'Other vehicle type (includes go-cart, fork-lift, city street sweeper dunes/swamp buggy)',\n",
       "       'Unenclosed Three Wheel Motorcycle / Unenclosed Autocycle (1 Rear Wheel)',\n",
       "       'Snowmobile',\n",
       "       'Other motored cycle type (mini-bikes, pocket motorcycles pocket bikes)',\n",
       "       'Unknown Three Wheel Motorcycle Type',\n",
       "       'Cross Country/Intercity Bus', 'Golf Cart',\n",
       "       'Large Limousine-more than four side doors or stretched chassis',\n",
       "       'Construction equipment other than trucks (includes graders)',\n",
       "       'Unknown if single-unit or combination unit Heavy Truck (GVWR greater than 26,000 lbs.)',\n",
       "       'Other light conventional truck type',\n",
       "       'Light Vehicle Based Motor Home (chassis mounted)',\n",
       "       'Auto-based panel (cargo station wagon, auto-based ambulance or hearse)',\n",
       "       'Light Truck Based Motorhome (Chassis Mounted)'], dtype=object)"
      ]
     },
     "execution_count": 31,
     "metadata": {},
     "output_type": "execute_result"
    }
   ],
   "source": [
    "avp_df['bdytyp_imname'].unique()"
   ]
  },
  {
   "cell_type": "code",
   "execution_count": 32,
   "metadata": {},
   "outputs": [
    {
     "data": {
      "text/plain": [
       "array(['4_door_sedan', 'Small_SUV_light_truck', 'Van', 'Large_SUV',\n",
       "       'Truck', '2_door_sedan', 'Bus', 'Motorcylcle_trike', 'Convertable',\n",
       "       'Motorhome_RV', 'Construction_farm_equip', 'ATV_rec_vehicle',\n",
       "       'Snowmobile'], dtype=object)"
      ]
     },
     "execution_count": 32,
     "metadata": {},
     "output_type": "execute_result"
    }
   ],
   "source": [
    "# Recode body type\n",
    "avp_df['bdytyp_imname']=avp_df['bdytyp_imname'].replace([\n",
    "    '4-door sedan, hardtop',\n",
    "    '5-door/4-door hatchback', \n",
    "    'Sedan/Hardtop, number of doors unknown', \n",
    "    'Hatchback, number of doors unknown',\n",
    "    'Auto-based pickup (includes E1 Camino, Caballero, Ranchero, SSR, G8-ST, Subaru Brat, Rabbit Pickup)',\n",
    "    'Large Limousine-more than four side doors or stretched chassis',\n",
    "    'Auto-based panel (cargo station wagon, auto-based ambulance or hearse)',\n",
    "    'Station Wagon (excluding van and truck based)',\n",
    "    'Other or Unknown automobile type',\n",
    "    'Unknown body type', \n",
    "    'Not Reported',\n",
    "    \n",
    "    '2-door sedan,hardtop,coupe',\n",
    "    '3-door/2-door hatchback',\n",
    "    '3-door coupe',\n",
    "    \n",
    "    'Convertible(excludes sun-roof,t-bar)',\n",
    "    \n",
    "    'Light Pickup',\n",
    "    'Unknown light truck type', \n",
    "    'Unknown (pickup style) light conventional truck type',\n",
    "    'Unknown light vehicle type (automobile,utility vehicle, van, or light truck)',\n",
    "    'Other light conventional truck type',\n",
    "    'Compact Utility (Utility Vehicle Categories Small and Midsize)', \n",
    "    'Cab Chassis Based (includes Rescue Vehicle, Light Stake, Dump, and Tow Truck)',\n",
    "    \n",
    "    'Minivan (Chrysler Town and Country, Caravan, Grand Caravan, Voyager, Voyager, Honda-Odyssey, ...)',\n",
    "    'Large Van-Includes van-based buses (B150-B350, Sportsman, Royal Maxiwagon, Ram, Tradesman,...)',\n",
    "    'Van-Based Bus GVWR greater than 10,000 lbs.', \n",
    "    'Unknown van type',\n",
    "    'Step van (GVWR greater than 10,000 lbs.)',\n",
    "    'Other van type (Hi-Cube Van, Kary)', \n",
    "    'Step-van or walk-in van (GVWR less than or equal to 10,000 lbs.)',\n",
    "    \n",
    "    'Large utility (ANSI D16.1 Utility Vehicle Categories and Full Size and Large)',\n",
    "    'Medium/heavy Pickup (GVWR greater than 10,000 lbs.)',\n",
    "    'Utility Vehicle, Unknown body type', \n",
    "    'Utility station wagon (includes suburban limousines, Suburban, Travellall, Grand Wagoneer)',\n",
    "    'Unknown truck type (light/medium/heavy)',\n",
    "    \n",
    "    'Truck-tractor (Cab only, or with any number of trailing unit; any weight)',\n",
    "    'Single-unit straight truck or Cab-Chassis (GVWR range 19,501 to 26,000 lbs.)',\n",
    "    'Single-unit straight truck or Cab-Chassis (GVWR unknown)',\n",
    "    'Unknown medium/heavy truck type', \n",
    "    'Single-unit straight truck or Cab-Chassis (GVWR range 10,001 to 19,500 lbs.)',\n",
    "    'Single-unit straight truck or Cab-Chassis (GVWR greater than 26,000 lbs.)',\n",
    "    'Unknown if single-unit or combination unit Medium Truck (GVWR range 10,001 lbs. to 26,000 lbs.)',\n",
    "    'Unknown if single-unit or combination unit Heavy Truck (GVWR greater than 26,000 lbs.)',\n",
    "    \n",
    "    'Two Wheel Motorcycle (excluding motor scooters)',\n",
    "    'Motor Scooter',\n",
    "    'Moped or motorized bicycle',\n",
    "    'Unknown motored cycle type',\n",
    "    'Off-road Motorcycle', \n",
    "    'Unenclosed Three Wheel Motorcycle / Unenclosed Autocycle (1 Rear Wheel)',\n",
    "    'Three-wheel Motorcycle (2 Rear Wheels)',\n",
    "    'Other motored cycle type (mini-bikes, pocket motorcycles pocket bikes)',\n",
    "    'Unknown Three Wheel Motorcycle Type',\n",
    "    \n",
    "    'School Bus',\n",
    "    'Transit Bus (City Bus)',\n",
    "    'Other Bus Type', \n",
    "    'Unknown Bus Type',\n",
    "    'Cross Country/Intercity Bus',\n",
    "    \n",
    "    'Construction equipment other than trucks (includes graders)',  \n",
    "    'Farm equipment other than trucks',\n",
    "    \n",
    "    'Medium/heavy truck based motorhome',\n",
    "    'Medium/Heavy Vehicle Based Motor Home',\n",
    "    'Camper or motorhome, unknown truck type',\n",
    "    'Light Vehicle Based Motor Home (chassis mounted)',\n",
    "    'Light Truck Based Motorhome (Chassis Mounted)',\n",
    "    \n",
    "    'Recreational Off-Highway Vehicle',\n",
    "    'Other vehicle type (includes go-cart, fork-lift, city street sweeper dunes/swamp buggy)',\n",
    "    'Low Speed Vehicle (LSV) / Neighborhood Electric Vehicle (NEV)',\n",
    "    'ATV/ATC [All-Terrain Cycle]',\n",
    "    'Golf Cart',\n",
    "     \n",
    "     'Snowmobile'\n",
    "    \n",
    "],[\n",
    "    '4_door_sedan',\n",
    "    '4_door_sedan',\n",
    "    '4_door_sedan',\n",
    "    '4_door_sedan',\n",
    "    '4_door_sedan',\n",
    "    '4_door_sedan',\n",
    "    '4_door_sedan',\n",
    "    '4_door_sedan',\n",
    "    '4_door_sedan',\n",
    "    '4_door_sedan',\n",
    "    '4_door_sedan',\n",
    "    \n",
    "    '2_door_sedan',\n",
    "    '2_door_sedan',\n",
    "    '2_door_sedan',\n",
    "    \n",
    "    'Convertable',\n",
    "    \n",
    "    'Small_SUV_light_truck',\n",
    "    'Small_SUV_light_truck',\n",
    "    'Small_SUV_light_truck',\n",
    "    'Small_SUV_light_truck',\n",
    "    'Small_SUV_light_truck',\n",
    "    'Small_SUV_light_truck',\n",
    "    'Small_SUV_light_truck',\n",
    "    \n",
    "    'Van',\n",
    "    'Van',\n",
    "    'Van',\n",
    "    'Van',\n",
    "    'Van',\n",
    "    'Van',\n",
    "    'Van',\n",
    "    \n",
    "    'Large_SUV',\n",
    "    'Large_SUV',\n",
    "    'Large_SUV',\n",
    "    'Large_SUV',\n",
    "    'Large_SUV',\n",
    "    \n",
    "    'Truck',\n",
    "    'Truck',\n",
    "    'Truck',\n",
    "    'Truck',\n",
    "    'Truck',\n",
    "    'Truck',\n",
    "    'Truck',\n",
    "    'Truck',\n",
    "    \n",
    "    'Motorcylcle_trike',\n",
    "    'Motorcylcle_trike',\n",
    "    'Motorcylcle_trike',\n",
    "    'Motorcylcle_trike',\n",
    "    'Motorcylcle_trike',\n",
    "    'Motorcylcle_trike',\n",
    "    'Motorcylcle_trike',\n",
    "    'Motorcylcle_trike',\n",
    "    'Motorcylcle_trike',\n",
    "    \n",
    "    'Bus',\n",
    "    'Bus',\n",
    "    'Bus',\n",
    "    'Bus',\n",
    "    'Bus',\n",
    "    \n",
    "    'Construction_farm_equip',\n",
    "    'Construction_farm_equip',\n",
    "    \n",
    "    'Motorhome_RV',\n",
    "    'Motorhome_RV',\n",
    "    'Motorhome_RV',\n",
    "    'Motorhome_RV',\n",
    "    'Motorhome_RV',\n",
    "    \n",
    "    'ATV_rec_vehicle',\n",
    "    'ATV_rec_vehicle',\n",
    "    'ATV_rec_vehicle',\n",
    "    'ATV_rec_vehicle',\n",
    "    'ATV_rec_vehicle',\n",
    "    \n",
    "     'Snowmobile',\n",
    "    \n",
    "])\n",
    "avp_df['bdytyp_imname'].unique()\n"
   ]
  },
  {
   "cell_type": "code",
   "execution_count": 33,
   "metadata": {},
   "outputs": [
    {
     "data": {
      "text/plain": [
       "array(['Stopped in Roadway', 'Decelerating in Road', 'Changing Lanes',\n",
       "       'Unknown', 'Going Straight', 'Turning Left', 'Negotiating a Curve',\n",
       "       'Turning Right', 'Starting in Road',\n",
       "       'Passing or Overtaking Another Vehicle',\n",
       "       'Successful Avoidance Maneuver to a Previous Critical Event',\n",
       "       'Backing Up (other than for Parking Position)', 'Other(specify:)',\n",
       "       'No Driver Present / Unknown if Driver Present', 'Making a U-turn',\n",
       "       'Leaving a Parking Position', 'Merging', 'Accelerating in Road',\n",
       "       'Disabled or Parked in Travel lane', 'Entering a Parking Position'],\n",
       "      dtype=object)"
      ]
     },
     "execution_count": 33,
     "metadata": {},
     "output_type": "execute_result"
    }
   ],
   "source": [
    "avp_df['p_crash1name'].unique()"
   ]
  },
  {
   "cell_type": "code",
   "execution_count": 34,
   "metadata": {},
   "outputs": [
    {
     "data": {
      "text/plain": [
       "array(['Stopping_backup', 'Changing Lanes', 'Going straight',\n",
       "       'Turning Left', 'Negotiating a Curve', 'Turning Right',\n",
       "       'Start on road', 'Passing or Overtaking Another Vehicle',\n",
       "       'Successful Avoidance Maneuver to a Previous Critical Event',\n",
       "       'Making a U-turn', 'Diasbled_parked', 'Merging'], dtype=object)"
      ]
     },
     "execution_count": 34,
     "metadata": {},
     "output_type": "execute_result"
    }
   ],
   "source": [
    "# Recode prior to crash movement: some not binned. unknowns binned with going straight\n",
    "avp_df['p_crash1name'] = avp_df['p_crash1name'].replace([\n",
    "    'Going Straight', \n",
    "    'Other(specify:)',\n",
    "    'Unknown', \n",
    "    'No Driver Present / Unknown if Driver Present',\n",
    "        \n",
    "    'Decelerating in Road',\n",
    "    'Stopped in Roadway',\n",
    "    'Backing Up (other than for Parking Position)',\n",
    "    \n",
    "    'Starting in Road',\n",
    "    'Accelerating in Road', \n",
    "    \n",
    "    'Disabled or Parked in Travel lane', \n",
    "    'Entering a Parking Position',\n",
    "    'Leaving a Parking Position',\n",
    "     \n",
    "]\n",
    ",[\n",
    "    'Going straight',\n",
    "    'Going straight',\n",
    "    'Going straight',\n",
    "    'Going straight',\n",
    "    \n",
    "    'Stopping_backup',\n",
    "    'Stopping_backup',\n",
    "    'Stopping_backup',\n",
    "    \n",
    "    'Start on road',\n",
    "    'Start on road',\n",
    "    \n",
    "    'Diasbled_parked',\n",
    "    'Diasbled_parked',\n",
    "    'Diasbled_parked',\n",
    "])\n",
    "avp_df['p_crash1name'].unique()"
   ]
  },
  {
   "cell_type": "code",
   "execution_count": 35,
   "metadata": {},
   "outputs": [
    {
     "data": {
      "text/plain": [
       "array(['Seatbelt', 'No_seatbelt', 'Child_restraint', 'Harness'],\n",
       "      dtype=object)"
      ]
     },
     "execution_count": 35,
     "metadata": {},
     "output_type": "execute_result"
    }
   ],
   "source": [
    "# Recode restrictive device\n",
    "avp_df['rest_usename'] = avp_df['rest_usename'].replace([\n",
    "    'Shoulder and Lap Belt Used',\n",
    "    'Shoulder Belt Only Used', \n",
    "    'Other',\n",
    "    'Restraint Used - Type Unknown',\n",
    "    'Lap Belt Only Used',\n",
    "    'Reported as Unknown',\n",
    "    'Not Reported',\n",
    "    \n",
    "    'None Used/Not Applicable', \n",
    "\n",
    "    'Child Restraint Type Unknown', \n",
    "    'Booster Seat', \n",
    "    'Child Restraint System - Forward Facing',\n",
    "    'Child Restraint System  - Rear Facing',\n",
    "    'Child Restraint System - Rear Facing',\n",
    "    \n",
    "    'Racing-Style Harness Used'\n",
    "    \n",
    "   \n",
    "],[\n",
    "    'Seatbelt',\n",
    "    'Seatbelt',\n",
    "    'Seatbelt',\n",
    "    'Seatbelt',\n",
    "    'Seatbelt',\n",
    "    'Seatbelt',\n",
    "    'Seatbelt',\n",
    "    \n",
    "    'No_seatbelt',\n",
    "    \n",
    "    'Child_restraint',\n",
    "    'Child_restraint',\n",
    "    'Child_restraint',\n",
    "    'Child_restraint',\n",
    "    'Child_restraint',\n",
    "    \n",
    "    'Harness'\n",
    "])\n",
    "\n",
    "avp_df['rest_usename'].unique()"
   ]
  },
  {
   "cell_type": "code",
   "execution_count": 36,
   "metadata": {},
   "outputs": [
    {
     "data": {
      "text/plain": [
       "array([0, 1], dtype=int64)"
      ]
     },
     "execution_count": 36,
     "metadata": {},
     "output_type": "execute_result"
    }
   ],
   "source": [
    "# Recode retrain misuse 0 = no, 1 = yes\n",
    "avp_df['rest_misname'] = avp_df['rest_misname'].replace([\n",
    "    'No Indication of Mis-Use', \n",
    "    'None Used/Not Applicable',\n",
    "    'Yes, Indication of Mis-Use'\n",
    "],[0,0,1])\n",
    "avp_df['rest_misname'].unique()"
   ]
  },
  {
   "cell_type": "code",
   "execution_count": 37,
   "metadata": {},
   "outputs": [
    {
     "data": {
      "text/plain": [
       "array([0, 1], dtype=int64)"
      ]
     },
     "execution_count": 37,
     "metadata": {},
     "output_type": "execute_result"
    }
   ],
   "source": [
    "# Recode helmet wear 0= no, 1=yes\n",
    "avp_df['helm_usename']=avp_df['helm_usename'].replace([\n",
    "    'Not Applicable',\n",
    "    'Helmet, Other than DOT-Compliant Motorcycle Helmet',\n",
    "    'Helmet, Unknown if DOT-Compliant', \n",
    "    'No Helmet', \n",
    "    'Not Reported',\n",
    "    'DOT-Compliant Motorcycle Helmet',\n",
    "    'Reported as Unknown if Helmet Worn'\n",
    "],[0,1,1,0,0,1,0])\n",
    "avp_df['helm_usename'].unique()"
   ]
  },
  {
   "cell_type": "code",
   "execution_count": 38,
   "metadata": {},
   "outputs": [
    {
     "data": {
      "text/plain": [
       "array([0, 1], dtype=int64)"
      ]
     },
     "execution_count": 38,
     "metadata": {},
     "output_type": "execute_result"
    }
   ],
   "source": [
    "# Recode helmet misuse 0 = no 1 = yes\n",
    "avp_df['helm_misname']=avp_df['helm_misname'].replace([\n",
    "    'None Used/Not Applicable', \n",
    "    'No Indication of Mis-Use',\n",
    "    'Yes, Indication of Mis-Use'\n",
    "],[0,0,1])\n",
    "avp_df['helm_misname'].unique()"
   ]
  },
  {
   "cell_type": "code",
   "execution_count": 39,
   "metadata": {},
   "outputs": [
    {
     "data": {
      "text/plain": [
       "array([0, 1], dtype=int64)"
      ]
     },
     "execution_count": 39,
     "metadata": {},
     "output_type": "execute_result"
    }
   ],
   "source": [
    "# Recode police reported drinking 0 = no 1 = yes\n",
    "avp_df['drinkingname'] = avp_df['drinkingname'].replace([\n",
    "    'No (Alcohol Not Involved)', \n",
    "    'Not Reported', \n",
    "    'Reported as Unknown',\n",
    "    'Yes (Alcohol Involved)'\n",
    "],[0,0,0,1])\n",
    "avp_df['drinkingname'].unique()"
   ]
  },
  {
   "cell_type": "code",
   "execution_count": 40,
   "metadata": {},
   "outputs": [
    {
     "data": {
      "text/plain": [
       "array(['Test Not Given', 'Not Reported',\n",
       "       'AC Test Performed, Results Unknown', '0.040 % BAC',\n",
       "       'Reported as Unknown if Tested', '0.209 % BAC', '0.172 % BAC',\n",
       "       '0.000 % BAC', '0.160 % BAC', '0.270 % BAC', '0.121 % BAC',\n",
       "       '0.082 % BAC', '0.236 % BAC', '0.101 % BAC', '0.150 % BAC',\n",
       "       '0.395 % BAC', '0.110 % BAC', '0.230 % BAC', '0.182 % BAC',\n",
       "       '0.184 % BAC', '0.171 % BAC', '0.158 % BAC', '0.041 % BAC',\n",
       "       '0.140 % BAC', '0.003 % BAC', '0.197 % BAC', '0.126 % BAC',\n",
       "       '0.180 % BAC', '0.181 % BAC', '0.060 % BAC',\n",
       "       'Positive Reading with No Actual Value', '0.157 % BAC',\n",
       "       '0.300 % BAC', '0.212 % BAC', '0.220 % BAC', '0.375 % BAC',\n",
       "       '0.195 % BAC', '0.187 % BAC', '0.208 % BAC', '0.088 % BAC',\n",
       "       '0.194 % BAC', '0.090 % BAC', '0.017 % BAC', '0.070 % BAC',\n",
       "       '0.011 % BAC', '0.107 % BAC', '0.130 % BAC', '0.100 % BAC',\n",
       "       '0.080 % BAC', '0.014 % BAC', '0.290 % BAC', '0.078 % BAC',\n",
       "       '0.030 % BAC', '0.210 % BAC', '0.165 % BAC', '0.361 % BAC',\n",
       "       '0.190 % BAC', '0.275 % BAC', '0.188 % BAC', '0.137 % BAC',\n",
       "       '0.114 % BAC', '0.200 % BAC', '0.119 % BAC', '0.280 % BAC',\n",
       "       '0.189 % BAC', '0.020 % BAC', '0.216 % BAC', '0.178 % BAC',\n",
       "       '0.350 % BAC', '0.008 % BAC', '0.226 % BAC', '0.262 % BAC',\n",
       "       '0.147 % BAC', '0.169 % BAC', '0.378 % BAC', '0.028 % BAC',\n",
       "       '0.224 % BAC', '0.250 % BAC', '0.170 % BAC', '0.205 % BAC',\n",
       "       '0.310 % BAC', '0.142 % BAC', '0.177 % BAC', '0.245 % BAC',\n",
       "       '0.115 % BAC', '0.176 % BAC', '0.129 % BAC', '0.185 % BAC',\n",
       "       '0.191 % BAC', '0.287 % BAC', '0.286 % BAC', '0.135 % BAC',\n",
       "       '0.081 % BAC', '0.302 % BAC', '0.077 % BAC', '0.186 % BAC',\n",
       "       '0.111 % BAC', '0.094 % BAC', '0.076 % BAC', '0.167 % BAC',\n",
       "       '0.162 % BAC', '0.128 % BAC', '0.075 % BAC', '0.155 % BAC',\n",
       "       '0.229 % BAC', '.94 % or Greater', '0.175 % BAC', '0.123 % BAC',\n",
       "       '0.151 % BAC', '0.228 % BAC', '0.920 % BAC', '0.204 % BAC',\n",
       "       '0.239 % BAC', '0.320 % BAC', '0.146 % BAC', '0.062 % BAC',\n",
       "       '0.247 % BAC', '0.222 % BAC', '0.050 % BAC', '0.260 % BAC',\n",
       "       '0.173 % BAC', '0.108 % BAC', '0.164 % BAC', '0.336 % BAC',\n",
       "       '0.232 % BAC', '0.240 % BAC', '0.201 % BAC', '0.001 % BAC',\n",
       "       '0.120 % BAC', '0.196 % BAC', '0.223 % BAC', '0.138 % BAC',\n",
       "       '0.281 % BAC', '0.148 % BAC', '0.168 % BAC', '0.132 % BAC',\n",
       "       '0.318 % BAC', '0.193 % BAC', '0.016 % BAC', '0.109 % BAC',\n",
       "       '0.093 % BAC', '0.113 % BAC', '0.285 % BAC', '0.307 % BAC',\n",
       "       '0.010 % BAC', '0.096 % BAC', '0.026 % BAC', '0.249 % BAC',\n",
       "       '0.269 % BAC', '0.382 % BAC', '0.105 % BAC', '0.163 % BAC',\n",
       "       '0.102 % BAC', '0.085 % BAC', '0.221 % BAC', '0.131 % BAC',\n",
       "       '0.083 % BAC', '0.057 % BAC', '0.227 % BAC', '0.271 % BAC',\n",
       "       '0.139 % BAC', '0.031 % BAC', '0.192 % BAC', '0.124 % BAC',\n",
       "       '0.211 % BAC', '0.213 % BAC', '0.154 % BAC', '0.166 % BAC',\n",
       "       '0.198 % BAC', '0.012 % BAC', '0.117 % BAC', '0.053 % BAC',\n",
       "       '0.042 % BAC', '0.099 % BAC', '0.174 % BAC', '0.231 % BAC',\n",
       "       '0.058 % BAC', '0.045 % BAC', '0.242 % BAC', '0.390 % BAC',\n",
       "       '0.002 % BAC', '0.218 % BAC', '0.215 % BAC', '0.004 % BAC',\n",
       "       '0.272 % BAC', '0.047 % BAC', '0.289 % BAC', '0.112 % BAC',\n",
       "       '0.305 % BAC', '0.179 % BAC', '0.145 % BAC', '0.234 % BAC',\n",
       "       '0.006 % BAC', '0.106 % BAC', '0.248 % BAC', '0.141 % BAC',\n",
       "       '0.207 % BAC', '0.067 % BAC', '0.116 % BAC', '0.384 % BAC',\n",
       "       '0.256 % BAC', '0.380 % BAC', '0.027 % BAC', '0.243 % BAC',\n",
       "       '0.068 % BAC', '0.274 % BAC', '0.143 % BAC', '0.202 % BAC',\n",
       "       '0.298 % BAC', '0.255 % BAC', '0.600 % BAC', '0.043 % BAC',\n",
       "       '0.253 % BAC', '0.233 % BAC', '0.292 % BAC', '0.252 % BAC',\n",
       "       '0.136 % BAC', '0.340 % BAC', '0.048 % BAC', '0.153 % BAC',\n",
       "       '0.254 % BAC', '0.054 % BAC', '0.159 % BAC', '0.156 % BAC',\n",
       "       '0.095 % BAC', '0.294 % BAC', '0.072 % BAC', '0.125 % BAC',\n",
       "       '0.104 % BAC', '0.069 % BAC', '0.337 % BAC', '0.322 % BAC',\n",
       "       '0.268 % BAC', '0.013 % BAC', '0.091 % BAC', '0.520 % BAC',\n",
       "       '0.007 % BAC', '0.023 % BAC', '0.206 % BAC', '0.241 % BAC',\n",
       "       '0.098 % BAC', '0.296 % BAC', '0.309 % BAC', '0.217 % BAC',\n",
       "       '0.059 % BAC', '0.237 % BAC', '0.334 % BAC', '0.066 % BAC',\n",
       "       '0.079 % BAC', '0.061 % BAC', '0.152 % BAC', '0.238 % BAC',\n",
       "       '0.246 % BAC', '0.064 % BAC', '0.144 % BAC', '0.278 % BAC',\n",
       "       '0.086 % BAC', '0.251 % BAC', '0.214 % BAC', '0.259 % BAC',\n",
       "       '0.244 % BAC', '0.161 % BAC', '0.203 % BAC', '0.235 % BAC',\n",
       "       '0.308 % BAC'], dtype=object)"
      ]
     },
     "execution_count": 40,
     "metadata": {},
     "output_type": "execute_result"
    }
   ],
   "source": [
    "avp_df['alc_resname'].unique()\n"
   ]
  },
  {
   "cell_type": "code",
   "execution_count": 41,
   "metadata": {},
   "outputs": [
    {
     "data": {
      "text/plain": [
       "array([0, 1], dtype=int64)"
      ]
     },
     "execution_count": 41,
     "metadata": {},
     "output_type": "execute_result"
    }
   ],
   "source": [
    "avp_df['alc_resname_08']=avp_df['alc_resname'].replace([\n",
    "    \n",
    "    'Test Not Given', 'Not Reported', 'Reported as Unknown if Tested',\n",
    "       'AC Test Performed, Results Unknown', '0.220 % BAC', '0.000 % BAC',\n",
    "       '0.070 % BAC', '0.176 % BAC', '0.200 % BAC', '0.080 % BAC',\n",
    "       '0.244 % BAC', '0.170 % BAC', '0.020 % BAC', '0.125 % BAC',\n",
    "       '0.216 % BAC', '0.140 % BAC', '0.090 % BAC', '0.190 % BAC',\n",
    "       '0.230 % BAC', '0.150 % BAC',\n",
    "       'Positive Reading with No Actual Value', '0.172 % BAC',\n",
    "       '0.160 % BAC', '0.187 % BAC', '0.100 % BAC', '0.110 % BAC',\n",
    "       '0.181 % BAC', '0.157 % BAC', '0.210 % BAC', '0.158 % BAC',\n",
    "       '0.119 % BAC', '0.180 % BAC', '0.189 % BAC', '0.130 % BAC',\n",
    "       '0.030 % BAC', '0.208 % BAC', '0.245 % BAC', '0.144 % BAC',\n",
    "       '0.121 % BAC', '0.280 % BAC', '0.195 % BAC', '0.194 % BAC',\n",
    "       '0.017 % BAC', '0.011 % BAC', '0.050 % BAC', '0.076 % BAC',\n",
    "       '0.116 % BAC', '0.060 % BAC', '0.072 % BAC', '0.221 % BAC',\n",
    "       '0.193 % BAC', '0.296 % BAC', '0.161 % BAC', '0.255 % BAC',\n",
    "       '0.075 % BAC', '0.155 % BAC', '0.229 % BAC', '0.214 % BAC',\n",
    "       '0.152 % BAC', '0.250 % BAC', '.94 % or Greater', '0.238 % BAC',\n",
    "       '0.123 % BAC', '0.310 % BAC', '0.014 % BAC', '0.275 % BAC',\n",
    "       '0.290 % BAC', '0.188 % BAC', '0.137 % BAC', '0.114 % BAC',\n",
    "       '0.040 % BAC', '0.212 % BAC', '0.078 % BAC', '0.184 % BAC',\n",
    "       '0.375 % BAC', '0.178 % BAC', '0.088 % BAC', '0.165 % BAC',\n",
    "       '0.115 % BAC', '0.209 % BAC', '0.300 % BAC', '0.168 % BAC',\n",
    "       '0.132 % BAC', '0.260 % BAC', '0.318 % BAC', '0.185 % BAC',\n",
    "       '0.286 % BAC', '0.173 % BAC', '0.077 % BAC', '0.186 % BAC',\n",
    "       '0.120 % BAC', '0.167 % BAC', '0.162 % BAC', '0.111 % BAC',\n",
    "       '0.129 % BAC', '0.287 % BAC', '0.081 % BAC', '0.302 % BAC',\n",
    "       '0.094 % BAC', '0.240 % BAC', '0.135 % BAC', '0.142 % BAC',\n",
    "       '0.131 % BAC', '0.148 % BAC', '0.128 % BAC', '0.309 % BAC',\n",
    "       '0.026 % BAC', '0.159 % BAC', '0.196 % BAC', '0.191 % BAC',\n",
    "       '0.151 % BAC', '0.270 % BAC', '0.108 % BAC', '0.105 % BAC',\n",
    "       '0.204 % BAC', '0.016 % BAC', '0.057 % BAC', '0.109 % BAC',\n",
    "       '0.093 % BAC', '0.113 % BAC', '0.307 % BAC', '0.085 % BAC',\n",
    "       '0.008 % BAC', '0.164 % BAC', '0.269 % BAC', '0.320 % BAC',\n",
    "       '0.138 % BAC', '0.146 % BAC', '0.062 % BAC', '0.083 % BAC',\n",
    "       '0.177 % BAC', '0.247 % BAC', '0.175 % BAC', '0.223 % BAC',\n",
    "       '0.102 % BAC', '0.028 % BAC', '0.222 % BAC', '0.126 % BAC',\n",
    "       '0.228 % BAC', '0.336 % BAC', '0.920 % BAC', '0.239 % BAC',\n",
    "       '0.232 % BAC', '0.201 % BAC', '0.281 % BAC', '0.001 % BAC',\n",
    "       '0.285 % BAC', '0.010 % BAC', '0.197 % BAC', '0.249 % BAC',\n",
    "       '0.101 % BAC', '0.361 % BAC', '0.395 % BAC', '0.163 % BAC',\n",
    "       '0.096 % BAC', '0.382 % BAC', '0.271 % BAC', '0.350 % BAC',\n",
    "       '0.182 % BAC', '0.047 % BAC', '0.211 % BAC', '0.154 % BAC',\n",
    "       '0.166 % BAC', '0.053 % BAC', '0.042 % BAC', '0.218 % BAC',\n",
    "       '0.192 % BAC', '0.215 % BAC', '0.004 % BAC', '0.174 % BAC',\n",
    "       '0.231 % BAC', '0.226 % BAC', '0.227 % BAC', '0.099 % BAC',\n",
    "       '0.139 % BAC', '0.082 % BAC', '0.124 % BAC', '0.002 % BAC',\n",
    "       '0.031 % BAC', '0.272 % BAC', '0.213 % BAC', '0.058 % BAC',\n",
    "       '0.045 % BAC', '0.262 % BAC', '0.198 % BAC', '0.378 % BAC',\n",
    "       '0.224 % BAC', '0.041 % BAC', '0.390 % BAC', '0.112 % BAC',\n",
    "       '0.117 % BAC', '0.205 % BAC', '0.305 % BAC', '0.298 % BAC',\n",
    "       '0.179 % BAC', '0.289 % BAC', '0.242 % BAC', '0.012 % BAC',\n",
    "       '0.147 % BAC', '0.243 % BAC', '0.248 % BAC', '0.106 % BAC',\n",
    "       '0.234 % BAC', '0.141 % BAC', '0.274 % BAC', '0.143 % BAC',\n",
    "       '0.256 % BAC', '0.145 % BAC', '0.006 % BAC', '0.202 % BAC',\n",
    "       '0.207 % BAC', '0.054 % BAC', '0.380 % BAC', '0.068 % BAC',\n",
    "       '0.067 % BAC', '0.384 % BAC', '0.027 % BAC', '0.253 % BAC',\n",
    "       '0.156 % BAC', '0.292 % BAC', '0.136 % BAC', '0.254 % BAC',\n",
    "       '0.322 % BAC', '0.206 % BAC', '0.237 % BAC', '0.600 % BAC',\n",
    "       '0.252 % BAC', '0.095 % BAC', '0.340 % BAC', '0.048 % BAC',\n",
    "       '0.153 % BAC', '0.294 % BAC', '0.337 % BAC', '0.091 % BAC',\n",
    "       '0.233 % BAC', '0.241 % BAC', '0.043 % BAC', '0.171 % BAC',\n",
    "       '0.023 % BAC', '0.334 % BAC', '0.520 % BAC', '0.007 % BAC',\n",
    "       '0.069 % BAC', '0.059 % BAC', '0.104 % BAC', '0.079 % BAC',\n",
    "       '0.268 % BAC', '0.013 % BAC', '0.107 % BAC', '0.236 % BAC',\n",
    "       '0.217 % BAC', '0.066 % BAC', '0.098 % BAC', '0.203 % BAC',\n",
    "       '0.251 % BAC', '0.003 % BAC', '0.308 % BAC', '0.278 % BAC',\n",
    "       '0.246 % BAC', '0.064 % BAC', '0.235 % BAC', '0.086 % BAC',\n",
    "       '0.061 % BAC', '0.259 % BAC', '0.169 % BAC'\n",
    "],[\n",
    "   0,0,0,\n",
    "    0,1,0,\n",
    "    0,1,1,1,\n",
    "    1,1,0,1,\n",
    "    1,1,1,1,\n",
    "    1,1,\n",
    "    0,1,\n",
    "    1,1,1,1,\n",
    "    1,1,1,1,\n",
    "    1,1,1,1,\n",
    "    0,1,1,1,\n",
    "    1,1,1,1,\n",
    "    0,0,0,0,\n",
    "    1,0,0,1,\n",
    "    1,1,1,1,\n",
    "    0,1,1,1,\n",
    "    1,1,1,1,\n",
    "    1,1,0,1,\n",
    "    1,1,1,1,\n",
    "    0,1,0,1,\n",
    "    1,1,1,1,\n",
    "    1,1,1,1,\n",
    "    1,1,1,1,\n",
    "    1,1,0,1,\n",
    "    1,1,1,1,\n",
    "    1,1,1,1,\n",
    "    1,1,1,1,\n",
    "    1,1,1,1,\n",
    "    0,1,1,1,\n",
    "    1,1,1,1,\n",
    "    1,0,0,1,\n",
    "    1,1,1,1,\n",
    "    0,1,1,1,\n",
    "    1,1,0,1,\n",
    "    1,1,1,1,\n",
    "    1,0,1,1,\n",
    "    1,1,1,1,\n",
    "    1,1,1,0,\n",
    "    1,0,1,1,\n",
    "    1,1,1,1,\n",
    "    1,1,1,1,\n",
    "    1,0,1,1,\n",
    "    1,0,0,1,\n",
    "    1,1,0,1,\n",
    "    1,1,1,1,\n",
    "    1,1,1,0,\n",
    "    0,1,1,0,\n",
    "    0,1,1,1,\n",
    "    1,0,1,1,\n",
    "    1,1,1,1,\n",
    "    1,1,1,0,\n",
    "    1,1,1,1,\n",
    "    1,1,1,1,\n",
    "    1,1,0,1,\n",
    "    1,0,1,0,\n",
    "    0,1,0,1,\n",
    "    1,1,1,1,\n",
    "    1,1,1,1,\n",
    "    1,1,1,0,\n",
    "    1,1,1,1,\n",
    "    1,1,0,1,\n",
    "    0,1,1,0,\n",
    "    0,0,1,0,\n",
    "    1,0,1,1,\n",
    "    1,0,1,1,\n",
    "    1,0,1,1,\n",
    "    1,0,1,1,\n",
    "    0,1,1   \n",
    "])\n",
    "avp_df['alc_resname_08'].unique()"
   ]
  },
  {
   "cell_type": "code",
   "execution_count": 42,
   "metadata": {},
   "outputs": [
    {
     "data": {
      "text/plain": [
       "array([0, 1], dtype=int64)"
      ]
     },
     "execution_count": 42,
     "metadata": {},
     "output_type": "execute_result"
    }
   ],
   "source": [
    "# Recode drugs involved 0 = no, 1 = yes\n",
    "avp_df['drugsname']=avp_df['drugsname'].replace([\n",
    "    'No (drugs not involved)', \n",
    "    'Not Reported', \n",
    "    'Reported as Unknown',\n",
    "    'Yes (drugs involved)'\n",
    "],[0,0,0,1])\n",
    "avp_df['drugsname'].unique()"
   ]
  },
  {
   "cell_type": "code",
   "execution_count": 43,
   "metadata": {},
   "outputs": [
    {
     "data": {
      "text/plain": [
       "array([0, 1], dtype=int64)"
      ]
     },
     "execution_count": 43,
     "metadata": {},
     "output_type": "execute_result"
    }
   ],
   "source": [
    "# recode transfer to hospital 0 = no 1 = yes\n",
    "avp_df['hospitalname']=avp_df['hospitalname'].replace([\n",
    "    'EMS Ground', \n",
    "    'Not Transported', \n",
    "    'Other', \n",
    "    'EMS Air',\n",
    "    'EMS Unknown Mode', \n",
    "    'Reported as Unknown',\n",
    "    'Transported  Unknown Source', \n",
    "    'Not Reported', \n",
    "    'Law Enforcement',\n",
    "    'Not Transported for Treatment'\n",
    "],[1,0,1,1,1,0,1,0,1,0])\n",
    "avp_df['hospitalname'].unique()"
   ]
  },
  {
   "cell_type": "code",
   "execution_count": 44,
   "metadata": {},
   "outputs": [
    {
     "data": {
      "text/plain": [
       "array(['Occupant of a Motor Vehicle'], dtype=object)"
      ]
     },
     "execution_count": 44,
     "metadata": {},
     "output_type": "execute_result"
    }
   ],
   "source": [
    "avp_df['locationname'].unique()\n",
    "# NOT USEFUL"
   ]
  },
  {
   "cell_type": "code",
   "execution_count": 45,
   "metadata": {},
   "outputs": [
    {
     "data": {
      "text/plain": [
       "Male                   135342\n",
       "Female                 109803\n",
       "Not Reported             7708\n",
       "Reported as Unknown      3587\n",
       "Name: sex_imname, dtype: int64"
      ]
     },
     "execution_count": 45,
     "metadata": {},
     "output_type": "execute_result"
    }
   ],
   "source": [
    "avp_df['sex_imname'].value_counts()"
   ]
  },
  {
   "cell_type": "code",
   "execution_count": 46,
   "metadata": {},
   "outputs": [
    {
     "data": {
      "text/plain": [
       "1    143050\n",
       "0    113390\n",
       "Name: sex_imname, dtype: int64"
      ]
     },
     "execution_count": 46,
     "metadata": {},
     "output_type": "execute_result"
    }
   ],
   "source": [
    "# Recode sex 0 = female, 1 = male : Assign not reported as male, unknown as female\n",
    "avp_df['sex_imname']=avp_df['sex_imname'].replace([\n",
    "    'Female', \n",
    "    'Male', \n",
    "    'Reported as Unknown', \n",
    "    'Not Reported'\n",
    "],[0,1,0,1])\n",
    "\n",
    "avp_df['sex_imname'].value_counts()"
   ]
  },
  {
   "cell_type": "code",
   "execution_count": 47,
   "metadata": {},
   "outputs": [
    {
     "data": {
      "text/plain": [
       "array(['none', 'serious', 'minor', 'fatal'], dtype=object)"
      ]
     },
     "execution_count": 47,
     "metadata": {},
     "output_type": "execute_result"
    }
   ],
   "source": [
    "# Recode person level of injury\n",
    "avp_df['injsev_imname'] = avp_df['injsev_imname'].replace([\n",
    "    'Suspected Serious Injury (A)', \n",
    "    'No Apparent Injury (O)',\n",
    "    'Possible Injury (C)', \n",
    "    'Unknown/Not Reported',\n",
    "    'Suspected Minor Injury (B)',\n",
    "    'Fatal Injury (K)',\n",
    "    'Injured, Severity Unknown', \n",
    "    'Died Prior to Crash*'\n",
    "],[\n",
    "    'serious',\n",
    "    'none',\n",
    "    'minor',\n",
    "    'none',\n",
    "    'minor',\n",
    "    'fatal',\n",
    "    'minor',\n",
    "    'fatal'\n",
    " ])\n",
    "avp_df['injsev_imname'].unique()"
   ]
  },
  {
   "cell_type": "code",
   "execution_count": 48,
   "metadata": {},
   "outputs": [
    {
     "data": {
      "text/plain": [
       "array([0, 1], dtype=int64)"
      ]
     },
     "execution_count": 48,
     "metadata": {},
     "output_type": "execute_result"
    }
   ],
   "source": [
    "# Recode personal alcohol use\n",
    "avp_df['peralch_imname']=avp_df['peralch_imname'].replace([\n",
    "    'No (Alcohol Not Involved)',\n",
    "    'Yes (Alcohol Involved)'\n",
    "],[0,1])\n",
    "avp_df['peralch_imname'].unique()"
   ]
  },
  {
   "cell_type": "code",
   "execution_count": 49,
   "metadata": {},
   "outputs": [
    {
     "data": {
      "text/plain": [
       "array(['Second Seat, Right Side', 'Front Seat, Left Side',\n",
       "       'Front Seat, Right Side', 'Second Seat, Left Side',\n",
       "       'Front Seat, Middle', 'Reported as Unknown', 'Not Reported',\n",
       "       'Front Seat, Unknown', 'Second Seat, Middle',\n",
       "       'Appended to a Motor Vehicle for Motion', 'Third Seat, Right Side',\n",
       "       'Third Seat, Left Side', 'Sleeper Section of Cab (Truck)',\n",
       "       'Third Seat, Middle', 'Second Seat, Unknown',\n",
       "       'Other Passenger in enclosed passenger or cargo area',\n",
       "       'Front Seat, Other', 'Riding on Exterior of Vehicle',\n",
       "       'Second Seat, Other', 'Third Seat, Unknown',\n",
       "       'Other Passenger in unenclosed passenger or cargo area',\n",
       "       'Third Seat, Other', 'Trailing Unit',\n",
       "       'Other Passenger in passenger or cargo area, unknown whether or not enclosed',\n",
       "       'Fourth Seat, Left Side', 'Fourth Seat, Right Side',\n",
       "       'Fourth Seat, Middle', 'Fourth Seat, Other'], dtype=object)"
      ]
     },
     "execution_count": 49,
     "metadata": {},
     "output_type": "execute_result"
    }
   ],
   "source": [
    "avp_df['seat_imname'].unique()"
   ]
  },
  {
   "cell_type": "code",
   "execution_count": 50,
   "metadata": {},
   "outputs": [
    {
     "data": {
      "text/plain": [
       "array(['Second_row', 'Driver', 'Front_passenger', 'Riding_outside',\n",
       "       'Third_or_4 Row', 'Cargo_area', 'Trailer'], dtype=object)"
      ]
     },
     "execution_count": 50,
     "metadata": {},
     "output_type": "execute_result"
    }
   ],
   "source": [
    "avp_df['seat_imname']=avp_df['seat_imname'].replace([\n",
    "    'Front Seat, Left Side', \n",
    "    \n",
    "    'Front Seat, Right Side',\n",
    "    'Front Seat, Middle',\n",
    "    'Front Seat, Unknown',\n",
    "    'Front Seat, Other', \n",
    "    'Not Reported',\n",
    "    'Reported as Unknown', \n",
    "    \n",
    "    'Second Seat, Left Side', \n",
    "    'Second Seat, Middle',\n",
    "    'Second Seat, Right Side', \n",
    "    'Second Seat, Unknown', \n",
    "    'Second Seat, Other',\n",
    "    \n",
    "    'Third Seat, Left Side',\n",
    "    'Third Seat, Middle', \n",
    "    'Third Seat, Right Side', \n",
    "    'Third Seat, Unknown', \n",
    "    'Third Seat, Other',\n",
    "    'Fourth Seat, Left Side',\n",
    "    'Fourth Seat, Right Side', \n",
    "    'Fourth Seat, Middle',\n",
    "    'Fourth Seat, Other',\n",
    "    \n",
    "    'Riding on Exterior of Vehicle', \n",
    "    'Appended to a Motor Vehicle for Motion',\n",
    "    \n",
    "    'Other Passenger in enclosed passenger or cargo area',\n",
    "    'Sleeper Section of Cab (Truck)',\n",
    "    'Other Passenger in passenger or cargo area, unknown whether or not enclosed',\n",
    "    'Other Passenger in unenclosed passenger or cargo area',\n",
    "    \n",
    "    'Trailing Unit',\n",
    "    \n",
    "],[\n",
    "    'Driver',\n",
    "    \n",
    "    'Front_passenger',\n",
    "    'Front_passenger',\n",
    "    'Front_passenger',\n",
    "    'Front_passenger',\n",
    "    'Front_passenger',\n",
    "    'Front_passenger',\n",
    "    \n",
    "    'Second_row',\n",
    "    'Second_row',\n",
    "    'Second_row',\n",
    "    'Second_row',\n",
    "    'Second_row',\n",
    "    \n",
    "    'Third_or_4 Row',\n",
    "    'Third_or_4 Row',\n",
    "    'Third_or_4 Row',\n",
    "    'Third_or_4 Row',\n",
    "    'Third_or_4 Row',\n",
    "    'Third_or_4 Row',\n",
    "    'Third_or_4 Row',\n",
    "    'Third_or_4 Row',\n",
    "    'Third_or_4 Row',\n",
    "    \n",
    "    'Riding_outside',\n",
    "    'Riding_outside',\n",
    "    \n",
    "    'Cargo_area',\n",
    "    'Cargo_area',\n",
    "    'Cargo_area',\n",
    "    'Cargo_area',\n",
    "    \n",
    "    'Trailer'    \n",
    "])\n",
    "avp_df['seat_imname'].unique()"
   ]
  },
  {
   "cell_type": "code",
   "execution_count": 51,
   "metadata": {},
   "outputs": [
    {
     "data": {
      "text/plain": [
       "count    238805.000000\n",
       "mean         37.247930\n",
       "std          19.046642\n",
       "min           0.000000\n",
       "25%          22.000000\n",
       "50%          34.000000\n",
       "75%          51.000000\n",
       "max         120.000000\n",
       "Name: age_im_temp, dtype: float64"
      ]
     },
     "execution_count": 51,
     "metadata": {},
     "output_type": "execute_result"
    }
   ],
   "source": [
    "avp_df['age_im_temp']=avp_df['age_im'].replace([997,998,999],[np.NaN,np.NaN,np.NaN])\n",
    "avp_df['age_im_temp'].describe()"
   ]
  },
  {
   "cell_type": "code",
   "execution_count": 52,
   "metadata": {},
   "outputs": [
    {
     "data": {
      "text/plain": [
       "count    256440.000000\n",
       "mean         37.024575\n",
       "std          18.398439\n",
       "min           0.000000\n",
       "25%          23.000000\n",
       "50%          34.000000\n",
       "75%          50.000000\n",
       "max         120.000000\n",
       "Name: age_im, dtype: float64"
      ]
     },
     "execution_count": 52,
     "metadata": {},
     "output_type": "execute_result"
    }
   ],
   "source": [
    "# Recode age - impute median age = 34 years for missing\n",
    "avp_df['age_im']=avp_df['age_im'].replace([998,999],[34,34])\n",
    "avp_df['age_im'].describe()"
   ]
  },
  {
   "cell_type": "code",
   "execution_count": 53,
   "metadata": {},
   "outputs": [],
   "source": [
    "# Write to CSV SEMI CLEAN - NEEDS SOME FIELDS DROPPED - NOT THE FINAL SET FOR MACHINE LEARNING\n",
    "avp_df.to_csv('all_gas_no_brakes_semiclean.csv')"
   ]
  },
  {
   "cell_type": "markdown",
   "metadata": {},
   "source": [
    "# NOT UPDATED BELOW THIS POINT"
   ]
  },
  {
   "cell_type": "markdown",
   "metadata": {},
   "source": [
    "# FINAL PROJECT MACHINE LEARNING CODE\n"
   ]
  },
  {
   "cell_type": "code",
   "execution_count": null,
   "metadata": {},
   "outputs": [],
   "source": [
    "\n"
   ]
  },
  {
   "cell_type": "code",
   "execution_count": 54,
   "metadata": {},
   "outputs": [
    {
     "ename": "FileNotFoundError",
     "evalue": "[Errno 2] No such file or directory: 'Resources/crash.csv'",
     "output_type": "error",
     "traceback": [
      "\u001b[1;31m---------------------------------------------------------------------------\u001b[0m",
      "\u001b[1;31mFileNotFoundError\u001b[0m                         Traceback (most recent call last)",
      "\u001b[1;32m~\\AppData\\Local\\Temp/ipykernel_28060/440135940.py\u001b[0m in \u001b[0;36m<module>\u001b[1;34m\u001b[0m\n\u001b[0;32m      1\u001b[0m \u001b[1;31m# CONNECT DATA TO DATABASE\u001b[0m\u001b[1;33m\u001b[0m\u001b[1;33m\u001b[0m\u001b[1;33m\u001b[0m\u001b[0m\n\u001b[1;32m----> 2\u001b[1;33m \u001b[0mcrash_df\u001b[0m \u001b[1;33m=\u001b[0m \u001b[0mpd\u001b[0m\u001b[1;33m.\u001b[0m\u001b[0mread_csv\u001b[0m\u001b[1;33m(\u001b[0m\u001b[1;34m\"Resources/crash.csv\"\u001b[0m\u001b[1;33m)\u001b[0m\u001b[1;33m\u001b[0m\u001b[1;33m\u001b[0m\u001b[0m\n\u001b[0m\u001b[0;32m      3\u001b[0m \u001b[0mcrash_df\u001b[0m\u001b[1;33m.\u001b[0m\u001b[0mhead\u001b[0m\u001b[1;33m(\u001b[0m\u001b[1;33m)\u001b[0m\u001b[1;33m\u001b[0m\u001b[1;33m\u001b[0m\u001b[0m\n",
      "\u001b[1;32m~\\anaconda3\\envs\\PythonData\\envs\\mlenv\\lib\\site-packages\\pandas\\util\\_decorators.py\u001b[0m in \u001b[0;36mwrapper\u001b[1;34m(*args, **kwargs)\u001b[0m\n\u001b[0;32m    309\u001b[0m                     \u001b[0mstacklevel\u001b[0m\u001b[1;33m=\u001b[0m\u001b[0mstacklevel\u001b[0m\u001b[1;33m,\u001b[0m\u001b[1;33m\u001b[0m\u001b[1;33m\u001b[0m\u001b[0m\n\u001b[0;32m    310\u001b[0m                 )\n\u001b[1;32m--> 311\u001b[1;33m             \u001b[1;32mreturn\u001b[0m \u001b[0mfunc\u001b[0m\u001b[1;33m(\u001b[0m\u001b[1;33m*\u001b[0m\u001b[0margs\u001b[0m\u001b[1;33m,\u001b[0m \u001b[1;33m**\u001b[0m\u001b[0mkwargs\u001b[0m\u001b[1;33m)\u001b[0m\u001b[1;33m\u001b[0m\u001b[1;33m\u001b[0m\u001b[0m\n\u001b[0m\u001b[0;32m    312\u001b[0m \u001b[1;33m\u001b[0m\u001b[0m\n\u001b[0;32m    313\u001b[0m         \u001b[1;32mreturn\u001b[0m \u001b[0mwrapper\u001b[0m\u001b[1;33m\u001b[0m\u001b[1;33m\u001b[0m\u001b[0m\n",
      "\u001b[1;32m~\\anaconda3\\envs\\PythonData\\envs\\mlenv\\lib\\site-packages\\pandas\\io\\parsers\\readers.py\u001b[0m in \u001b[0;36mread_csv\u001b[1;34m(filepath_or_buffer, sep, delimiter, header, names, index_col, usecols, squeeze, prefix, mangle_dupe_cols, dtype, engine, converters, true_values, false_values, skipinitialspace, skiprows, skipfooter, nrows, na_values, keep_default_na, na_filter, verbose, skip_blank_lines, parse_dates, infer_datetime_format, keep_date_col, date_parser, dayfirst, cache_dates, iterator, chunksize, compression, thousands, decimal, lineterminator, quotechar, quoting, doublequote, escapechar, comment, encoding, encoding_errors, dialect, error_bad_lines, warn_bad_lines, on_bad_lines, delim_whitespace, low_memory, memory_map, float_precision, storage_options)\u001b[0m\n\u001b[0;32m    584\u001b[0m     \u001b[0mkwds\u001b[0m\u001b[1;33m.\u001b[0m\u001b[0mupdate\u001b[0m\u001b[1;33m(\u001b[0m\u001b[0mkwds_defaults\u001b[0m\u001b[1;33m)\u001b[0m\u001b[1;33m\u001b[0m\u001b[1;33m\u001b[0m\u001b[0m\n\u001b[0;32m    585\u001b[0m \u001b[1;33m\u001b[0m\u001b[0m\n\u001b[1;32m--> 586\u001b[1;33m     \u001b[1;32mreturn\u001b[0m \u001b[0m_read\u001b[0m\u001b[1;33m(\u001b[0m\u001b[0mfilepath_or_buffer\u001b[0m\u001b[1;33m,\u001b[0m \u001b[0mkwds\u001b[0m\u001b[1;33m)\u001b[0m\u001b[1;33m\u001b[0m\u001b[1;33m\u001b[0m\u001b[0m\n\u001b[0m\u001b[0;32m    587\u001b[0m \u001b[1;33m\u001b[0m\u001b[0m\n\u001b[0;32m    588\u001b[0m \u001b[1;33m\u001b[0m\u001b[0m\n",
      "\u001b[1;32m~\\anaconda3\\envs\\PythonData\\envs\\mlenv\\lib\\site-packages\\pandas\\io\\parsers\\readers.py\u001b[0m in \u001b[0;36m_read\u001b[1;34m(filepath_or_buffer, kwds)\u001b[0m\n\u001b[0;32m    480\u001b[0m \u001b[1;33m\u001b[0m\u001b[0m\n\u001b[0;32m    481\u001b[0m     \u001b[1;31m# Create the parser.\u001b[0m\u001b[1;33m\u001b[0m\u001b[1;33m\u001b[0m\u001b[1;33m\u001b[0m\u001b[0m\n\u001b[1;32m--> 482\u001b[1;33m     \u001b[0mparser\u001b[0m \u001b[1;33m=\u001b[0m \u001b[0mTextFileReader\u001b[0m\u001b[1;33m(\u001b[0m\u001b[0mfilepath_or_buffer\u001b[0m\u001b[1;33m,\u001b[0m \u001b[1;33m**\u001b[0m\u001b[0mkwds\u001b[0m\u001b[1;33m)\u001b[0m\u001b[1;33m\u001b[0m\u001b[1;33m\u001b[0m\u001b[0m\n\u001b[0m\u001b[0;32m    483\u001b[0m \u001b[1;33m\u001b[0m\u001b[0m\n\u001b[0;32m    484\u001b[0m     \u001b[1;32mif\u001b[0m \u001b[0mchunksize\u001b[0m \u001b[1;32mor\u001b[0m \u001b[0miterator\u001b[0m\u001b[1;33m:\u001b[0m\u001b[1;33m\u001b[0m\u001b[1;33m\u001b[0m\u001b[0m\n",
      "\u001b[1;32m~\\anaconda3\\envs\\PythonData\\envs\\mlenv\\lib\\site-packages\\pandas\\io\\parsers\\readers.py\u001b[0m in \u001b[0;36m__init__\u001b[1;34m(self, f, engine, **kwds)\u001b[0m\n\u001b[0;32m    809\u001b[0m             \u001b[0mself\u001b[0m\u001b[1;33m.\u001b[0m\u001b[0moptions\u001b[0m\u001b[1;33m[\u001b[0m\u001b[1;34m\"has_index_names\"\u001b[0m\u001b[1;33m]\u001b[0m \u001b[1;33m=\u001b[0m \u001b[0mkwds\u001b[0m\u001b[1;33m[\u001b[0m\u001b[1;34m\"has_index_names\"\u001b[0m\u001b[1;33m]\u001b[0m\u001b[1;33m\u001b[0m\u001b[1;33m\u001b[0m\u001b[0m\n\u001b[0;32m    810\u001b[0m \u001b[1;33m\u001b[0m\u001b[0m\n\u001b[1;32m--> 811\u001b[1;33m         \u001b[0mself\u001b[0m\u001b[1;33m.\u001b[0m\u001b[0m_engine\u001b[0m \u001b[1;33m=\u001b[0m \u001b[0mself\u001b[0m\u001b[1;33m.\u001b[0m\u001b[0m_make_engine\u001b[0m\u001b[1;33m(\u001b[0m\u001b[0mself\u001b[0m\u001b[1;33m.\u001b[0m\u001b[0mengine\u001b[0m\u001b[1;33m)\u001b[0m\u001b[1;33m\u001b[0m\u001b[1;33m\u001b[0m\u001b[0m\n\u001b[0m\u001b[0;32m    812\u001b[0m \u001b[1;33m\u001b[0m\u001b[0m\n\u001b[0;32m    813\u001b[0m     \u001b[1;32mdef\u001b[0m \u001b[0mclose\u001b[0m\u001b[1;33m(\u001b[0m\u001b[0mself\u001b[0m\u001b[1;33m)\u001b[0m\u001b[1;33m:\u001b[0m\u001b[1;33m\u001b[0m\u001b[1;33m\u001b[0m\u001b[0m\n",
      "\u001b[1;32m~\\anaconda3\\envs\\PythonData\\envs\\mlenv\\lib\\site-packages\\pandas\\io\\parsers\\readers.py\u001b[0m in \u001b[0;36m_make_engine\u001b[1;34m(self, engine)\u001b[0m\n\u001b[0;32m   1038\u001b[0m             )\n\u001b[0;32m   1039\u001b[0m         \u001b[1;31m# error: Too many arguments for \"ParserBase\"\u001b[0m\u001b[1;33m\u001b[0m\u001b[1;33m\u001b[0m\u001b[1;33m\u001b[0m\u001b[0m\n\u001b[1;32m-> 1040\u001b[1;33m         \u001b[1;32mreturn\u001b[0m \u001b[0mmapping\u001b[0m\u001b[1;33m[\u001b[0m\u001b[0mengine\u001b[0m\u001b[1;33m]\u001b[0m\u001b[1;33m(\u001b[0m\u001b[0mself\u001b[0m\u001b[1;33m.\u001b[0m\u001b[0mf\u001b[0m\u001b[1;33m,\u001b[0m \u001b[1;33m**\u001b[0m\u001b[0mself\u001b[0m\u001b[1;33m.\u001b[0m\u001b[0moptions\u001b[0m\u001b[1;33m)\u001b[0m  \u001b[1;31m# type: ignore[call-arg]\u001b[0m\u001b[1;33m\u001b[0m\u001b[1;33m\u001b[0m\u001b[0m\n\u001b[0m\u001b[0;32m   1041\u001b[0m \u001b[1;33m\u001b[0m\u001b[0m\n\u001b[0;32m   1042\u001b[0m     \u001b[1;32mdef\u001b[0m \u001b[0m_failover_to_python\u001b[0m\u001b[1;33m(\u001b[0m\u001b[0mself\u001b[0m\u001b[1;33m)\u001b[0m\u001b[1;33m:\u001b[0m\u001b[1;33m\u001b[0m\u001b[1;33m\u001b[0m\u001b[0m\n",
      "\u001b[1;32m~\\anaconda3\\envs\\PythonData\\envs\\mlenv\\lib\\site-packages\\pandas\\io\\parsers\\c_parser_wrapper.py\u001b[0m in \u001b[0;36m__init__\u001b[1;34m(self, src, **kwds)\u001b[0m\n\u001b[0;32m     49\u001b[0m \u001b[1;33m\u001b[0m\u001b[0m\n\u001b[0;32m     50\u001b[0m         \u001b[1;31m# open handles\u001b[0m\u001b[1;33m\u001b[0m\u001b[1;33m\u001b[0m\u001b[1;33m\u001b[0m\u001b[0m\n\u001b[1;32m---> 51\u001b[1;33m         \u001b[0mself\u001b[0m\u001b[1;33m.\u001b[0m\u001b[0m_open_handles\u001b[0m\u001b[1;33m(\u001b[0m\u001b[0msrc\u001b[0m\u001b[1;33m,\u001b[0m \u001b[0mkwds\u001b[0m\u001b[1;33m)\u001b[0m\u001b[1;33m\u001b[0m\u001b[1;33m\u001b[0m\u001b[0m\n\u001b[0m\u001b[0;32m     52\u001b[0m         \u001b[1;32massert\u001b[0m \u001b[0mself\u001b[0m\u001b[1;33m.\u001b[0m\u001b[0mhandles\u001b[0m \u001b[1;32mis\u001b[0m \u001b[1;32mnot\u001b[0m \u001b[1;32mNone\u001b[0m\u001b[1;33m\u001b[0m\u001b[1;33m\u001b[0m\u001b[0m\n\u001b[0;32m     53\u001b[0m \u001b[1;33m\u001b[0m\u001b[0m\n",
      "\u001b[1;32m~\\anaconda3\\envs\\PythonData\\envs\\mlenv\\lib\\site-packages\\pandas\\io\\parsers\\base_parser.py\u001b[0m in \u001b[0;36m_open_handles\u001b[1;34m(self, src, kwds)\u001b[0m\n\u001b[0;32m    227\u001b[0m             \u001b[0mmemory_map\u001b[0m\u001b[1;33m=\u001b[0m\u001b[0mkwds\u001b[0m\u001b[1;33m.\u001b[0m\u001b[0mget\u001b[0m\u001b[1;33m(\u001b[0m\u001b[1;34m\"memory_map\"\u001b[0m\u001b[1;33m,\u001b[0m \u001b[1;32mFalse\u001b[0m\u001b[1;33m)\u001b[0m\u001b[1;33m,\u001b[0m\u001b[1;33m\u001b[0m\u001b[1;33m\u001b[0m\u001b[0m\n\u001b[0;32m    228\u001b[0m             \u001b[0mstorage_options\u001b[0m\u001b[1;33m=\u001b[0m\u001b[0mkwds\u001b[0m\u001b[1;33m.\u001b[0m\u001b[0mget\u001b[0m\u001b[1;33m(\u001b[0m\u001b[1;34m\"storage_options\"\u001b[0m\u001b[1;33m,\u001b[0m \u001b[1;32mNone\u001b[0m\u001b[1;33m)\u001b[0m\u001b[1;33m,\u001b[0m\u001b[1;33m\u001b[0m\u001b[1;33m\u001b[0m\u001b[0m\n\u001b[1;32m--> 229\u001b[1;33m             \u001b[0merrors\u001b[0m\u001b[1;33m=\u001b[0m\u001b[0mkwds\u001b[0m\u001b[1;33m.\u001b[0m\u001b[0mget\u001b[0m\u001b[1;33m(\u001b[0m\u001b[1;34m\"encoding_errors\"\u001b[0m\u001b[1;33m,\u001b[0m \u001b[1;34m\"strict\"\u001b[0m\u001b[1;33m)\u001b[0m\u001b[1;33m,\u001b[0m\u001b[1;33m\u001b[0m\u001b[1;33m\u001b[0m\u001b[0m\n\u001b[0m\u001b[0;32m    230\u001b[0m         )\n\u001b[0;32m    231\u001b[0m \u001b[1;33m\u001b[0m\u001b[0m\n",
      "\u001b[1;32m~\\anaconda3\\envs\\PythonData\\envs\\mlenv\\lib\\site-packages\\pandas\\io\\common.py\u001b[0m in \u001b[0;36mget_handle\u001b[1;34m(path_or_buf, mode, encoding, compression, memory_map, is_text, errors, storage_options)\u001b[0m\n\u001b[0;32m    705\u001b[0m                 \u001b[0mencoding\u001b[0m\u001b[1;33m=\u001b[0m\u001b[0mioargs\u001b[0m\u001b[1;33m.\u001b[0m\u001b[0mencoding\u001b[0m\u001b[1;33m,\u001b[0m\u001b[1;33m\u001b[0m\u001b[1;33m\u001b[0m\u001b[0m\n\u001b[0;32m    706\u001b[0m                 \u001b[0merrors\u001b[0m\u001b[1;33m=\u001b[0m\u001b[0merrors\u001b[0m\u001b[1;33m,\u001b[0m\u001b[1;33m\u001b[0m\u001b[1;33m\u001b[0m\u001b[0m\n\u001b[1;32m--> 707\u001b[1;33m                 \u001b[0mnewline\u001b[0m\u001b[1;33m=\u001b[0m\u001b[1;34m\"\"\u001b[0m\u001b[1;33m,\u001b[0m\u001b[1;33m\u001b[0m\u001b[1;33m\u001b[0m\u001b[0m\n\u001b[0m\u001b[0;32m    708\u001b[0m             )\n\u001b[0;32m    709\u001b[0m         \u001b[1;32melse\u001b[0m\u001b[1;33m:\u001b[0m\u001b[1;33m\u001b[0m\u001b[1;33m\u001b[0m\u001b[0m\n",
      "\u001b[1;31mFileNotFoundError\u001b[0m: [Errno 2] No such file or directory: 'Resources/crash.csv'"
     ]
    }
   ],
   "source": [
    "# CONNECT DATA TO DATABASE\n",
    "crash_df = pd.read_csv(\"Resources/crash.csv\")\n",
    "crash_df.head()"
   ]
  },
  {
   "cell_type": "code",
   "execution_count": null,
   "metadata": {},
   "outputs": [],
   "source": [
    "# PREPROCESS THE DATA"
   ]
  },
  {
   "cell_type": "code",
   "execution_count": null,
   "metadata": {},
   "outputs": [],
   "source": [
    "crash_df.columns"
   ]
  },
  {
   "cell_type": "code",
   "execution_count": null,
   "metadata": {},
   "outputs": [],
   "source": [
    "# Check unique catagorical \n",
    "crash_df.nunique()"
   ]
  },
  {
   "cell_type": "code",
   "execution_count": null,
   "metadata": {},
   "outputs": [],
   "source": [
    "# Look at XXXX value counts for binning\n",
    "XXXX_counts = application_df.XXXX.value_counts()\n",
    "#  How many XXXX counts are greater than X?\n",
    "XXXX_counts[XXXX_counts>X]"
   ]
  },
  {
   "cell_type": "code",
   "execution_count": null,
   "metadata": {},
   "outputs": [],
   "source": [
    "#  How many XXXX counts are less than or equal to X?\n",
    "XXXX_counts[XXXX_counts <= X]"
   ]
  },
  {
   "cell_type": "code",
   "execution_count": null,
   "metadata": {},
   "outputs": [],
   "source": [
    "# Visualize the value counts of XXXX\n",
    "XXXX_counts.plot.density()"
   ]
  },
  {
   "cell_type": "code",
   "execution_count": null,
   "metadata": {},
   "outputs": [],
   "source": [
    "# Determine which values to replace if counts are less than or equal to X.\n",
    "replace_crash = list(XXXX_counts[XXXX_counts <= X].index)\n",
    "\n",
    "# Replace in dataframe\n",
    "for crash in replace_crash:\n",
    "    crash_df.XXXX = crash_df.XXXX.replace(app,\"Other\")\n",
    "    \n",
    "# Check to make sure binning was successful\n",
    "crash_df.XXXX.value_counts()"
   ]
  },
  {
   "cell_type": "code",
   "execution_count": null,
   "metadata": {},
   "outputs": [],
   "source": [
    "# Generate our categorical variable lists\n",
    "crash_cat = crash_df.dtypes[crash_df.dtypes == \"object\"].index.tolist()"
   ]
  },
  {
   "cell_type": "code",
   "execution_count": null,
   "metadata": {},
   "outputs": [],
   "source": [
    "# Create a OneHotEncoder instance\n",
    "enc = OneHotEncoder(sparse=False)\n",
    "\n",
    "# Fit and transform the OneHotEncoder using the categorical variable list\n",
    "encode_df = pd.DataFrame(enc.fit_transform(crash_df[crash_cat]))\n",
    "\n",
    "# Add the encoded variable names to the dataframe\n",
    "encode_df.columns = enc.get_feature_names(crash_cat)\n",
    "encode_df.head()"
   ]
  },
  {
   "cell_type": "code",
   "execution_count": null,
   "metadata": {},
   "outputs": [],
   "source": [
    "# Merge one-hot encoded features and drop the originals\n",
    "crash_df = crash_df.merge(encode_df,left_index=True, right_index=True)\n",
    "crash_df = crash_df.drop(crash_cat,1)\n",
    "crash_df.head()"
   ]
  },
  {
   "cell_type": "code",
   "execution_count": null,
   "metadata": {},
   "outputs": [],
   "source": [
    "# Split our preprocessed data into our features and target arrays\n",
    "y = crash_df[\"YVALUE\"].values\n",
    "X = crash_df.drop([\"YVALUE\"],1).values\n",
    "\n",
    "# Split the preprocessed data into a training and testing dataset\n",
    "X_train, X_test, y_train, y_test = train_test_split(X, y, random_state=78)"
   ]
  },
  {
   "cell_type": "code",
   "execution_count": null,
   "metadata": {},
   "outputs": [],
   "source": [
    "# Create a StandardScaler instances\n",
    "scaler = StandardScaler()\n",
    "\n",
    "# Fit the StandardScaler\n",
    "X_scaler = scaler.fit(X_train)\n",
    "\n",
    "# Scale the data\n",
    "X_train_scaled = X_scaler.transform(X_train)\n",
    "X_test_scaled = X_scaler.transform(X_test)"
   ]
  },
  {
   "cell_type": "code",
   "execution_count": null,
   "metadata": {},
   "outputs": [],
   "source": [
    "# Define the model - deep neural net\n",
    "number_input_features = len(X_train[0])\n",
    "hidden_nodes_layer1 =  200\n",
    "hidden_nodes_layer2 = 30\n",
    "hidden_nodes_layer3 = 10\n",
    "\n",
    "nn = tf.keras.models.Sequential()\n",
    "\n",
    "# First hidden layer\n",
    "nn.add(\n",
    "    tf.keras.layers.Dense(units=hidden_nodes_layer1, input_dim=number_input_features, activation=\"relu\")\n",
    ")\n",
    "\n",
    "# Second hidden layer\n",
    "nn.add(tf.keras.layers.Dense(units=hidden_nodes_layer2, activation=\"sigmoid\"))\n",
    "\n",
    "# Third hidden layer\n",
    "nn.add(tf.keras.layers.Dense(units=hidden_nodes_layer3, activation=\"sigmoid\"))\n",
    "\n",
    "# Output layer\n",
    "nn.add(tf.keras.layers.Dense(units=1, activation=\"sigmoid\"))\n",
    "\n",
    "# Check the structure of the model\n",
    "nn.summary()"
   ]
  },
  {
   "cell_type": "code",
   "execution_count": null,
   "metadata": {},
   "outputs": [],
   "source": [
    "# Import checkpoint dependencies\n",
    "import os\n",
    "from tensorflow.keras.callbacks import ModelCheckpoint\n",
    "\n",
    "# Define the checkpoint path and filenames\n",
    "os.makedirs(\"crash_checkpoints/\",exist_ok=True)\n",
    "checkpoint_path = \"crash_checkpoints/weights.{epoch:02d}.hdf5\""
   ]
  },
  {
   "cell_type": "code",
   "execution_count": null,
   "metadata": {},
   "outputs": [],
   "source": [
    "# Compile the model\n",
    "nn.compile(loss=\"binary_crossentropy\", optimizer=\"adam\", metrics=[\"accuracy\"])"
   ]
  },
  {
   "cell_type": "code",
   "execution_count": null,
   "metadata": {},
   "outputs": [],
   "source": [
    "# Create a callback that saves the model's weights every epoch\n",
    "cp_callback = ModelCheckpoint(\n",
    "    filepath=checkpoint_path, \n",
    "    verbose=1, \n",
    "    save_weights_only=True,\n",
    "    save_freq='epoch')"
   ]
  },
  {
   "cell_type": "code",
   "execution_count": null,
   "metadata": {
    "scrolled": true
   },
   "outputs": [],
   "source": [
    "# Train the model\n",
    "fit_model = nn.fit(X_train_scaled,y_train,epochs=100, callbacks=[cp_callback])"
   ]
  },
  {
   "cell_type": "code",
   "execution_count": null,
   "metadata": {},
   "outputs": [],
   "source": [
    "# Evaluate the model using the test data\n",
    "model_loss, model_accuracy = nn.evaluate(X_test_scaled,y_test,verbose=2)\n",
    "print(f\"Loss: {model_loss}, Accuracy: {model_accuracy}\")"
   ]
  },
  {
   "cell_type": "code",
   "execution_count": null,
   "metadata": {},
   "outputs": [],
   "source": [
    "# Export our model to HDF5 file\n",
    "nn.save(\"Crash.h5\")"
   ]
  }
 ],
 "metadata": {
  "kernelspec": {
   "display_name": "mlenv",
   "language": "python",
   "name": "mlenv"
  },
  "language_info": {
   "codemirror_mode": {
    "name": "ipython",
    "version": 3
   },
   "file_extension": ".py",
   "mimetype": "text/x-python",
   "name": "python",
   "nbconvert_exporter": "python",
   "pygments_lexer": "ipython3",
   "version": "3.7.11"
  }
 },
 "nbformat": 4,
 "nbformat_minor": 2
}
