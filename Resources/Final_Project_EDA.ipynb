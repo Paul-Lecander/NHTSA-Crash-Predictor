{
 "cells": [
  {
   "cell_type": "code",
   "execution_count": 2,
   "id": "2d380dc7",
   "metadata": {},
   "outputs": [],
   "source": [
    "import pandas as pd\n",
    "import numpy as np\n",
    "import matplotlib.pyplot as plt\n",
    "from collections import Counter"
   ]
  },
  {
   "cell_type": "code",
   "execution_count": 3,
   "id": "334d020d",
   "metadata": {},
   "outputs": [
    {
     "data": {
      "text/html": [
       "<div>\n",
       "<style scoped>\n",
       "    .dataframe tbody tr th:only-of-type {\n",
       "        vertical-align: middle;\n",
       "    }\n",
       "\n",
       "    .dataframe tbody tr th {\n",
       "        vertical-align: top;\n",
       "    }\n",
       "\n",
       "    .dataframe thead th {\n",
       "        text-align: right;\n",
       "    }\n",
       "</style>\n",
       "<table border=\"1\" class=\"dataframe\">\n",
       "  <thead>\n",
       "    <tr style=\"text-align: right;\">\n",
       "      <th></th>\n",
       "      <th>CASENUM</th>\n",
       "      <th>VE_FORMS</th>\n",
       "      <th>VEH_NO</th>\n",
       "      <th>PER_NO</th>\n",
       "      <th>AGE</th>\n",
       "      <th>PER_TYPNAME</th>\n",
       "      <th>INJ_SEVNAME</th>\n",
       "      <th>SEAT_POSNAME</th>\n",
       "      <th>REST_USENAME</th>\n",
       "      <th>HELM_USENAME</th>\n",
       "      <th>AIR_BAGNAME</th>\n",
       "      <th>DRINKINGNAME</th>\n",
       "      <th>DRUGSNAME</th>\n",
       "      <th>HOSPITALNAME</th>\n",
       "    </tr>\n",
       "  </thead>\n",
       "  <tbody>\n",
       "    <tr>\n",
       "      <th>0</th>\n",
       "      <td>202002121240</td>\n",
       "      <td>2</td>\n",
       "      <td>1</td>\n",
       "      <td>1</td>\n",
       "      <td>61</td>\n",
       "      <td>Driver of a Motor Vehicle In-Transport</td>\n",
       "      <td>No Apparent Injury (O)</td>\n",
       "      <td>Front Seat, Left Side</td>\n",
       "      <td>Shoulder and Lap Belt Used</td>\n",
       "      <td>Not Applicable</td>\n",
       "      <td>Not Deployed</td>\n",
       "      <td>Not Reported</td>\n",
       "      <td>Not Reported</td>\n",
       "      <td>Not Transported for Treatment</td>\n",
       "    </tr>\n",
       "    <tr>\n",
       "      <th>1</th>\n",
       "      <td>202002121240</td>\n",
       "      <td>2</td>\n",
       "      <td>2</td>\n",
       "      <td>1</td>\n",
       "      <td>26</td>\n",
       "      <td>Driver of a Motor Vehicle In-Transport</td>\n",
       "      <td>No Apparent Injury (O)</td>\n",
       "      <td>Front Seat, Left Side</td>\n",
       "      <td>Shoulder and Lap Belt Used</td>\n",
       "      <td>Not Applicable</td>\n",
       "      <td>Not Deployed</td>\n",
       "      <td>Not Reported</td>\n",
       "      <td>Not Reported</td>\n",
       "      <td>Not Transported for Treatment</td>\n",
       "    </tr>\n",
       "    <tr>\n",
       "      <th>2</th>\n",
       "      <td>202002121829</td>\n",
       "      <td>1</td>\n",
       "      <td>1</td>\n",
       "      <td>1</td>\n",
       "      <td>23</td>\n",
       "      <td>Driver of a Motor Vehicle In-Transport</td>\n",
       "      <td>Suspected Minor Injury (B)</td>\n",
       "      <td>Front Seat, Left Side</td>\n",
       "      <td>Shoulder and Lap Belt Used</td>\n",
       "      <td>Not Applicable</td>\n",
       "      <td>Deployed- Combination</td>\n",
       "      <td>No (Alcohol Not Involved)</td>\n",
       "      <td>No (drugs not involved)</td>\n",
       "      <td>EMS Ground</td>\n",
       "    </tr>\n",
       "    <tr>\n",
       "      <th>3</th>\n",
       "      <td>202002121849</td>\n",
       "      <td>2</td>\n",
       "      <td>1</td>\n",
       "      <td>1</td>\n",
       "      <td>998</td>\n",
       "      <td>Driver of a Motor Vehicle In-Transport</td>\n",
       "      <td>Unknown/Not Reported</td>\n",
       "      <td>Front Seat, Left Side</td>\n",
       "      <td>Not Reported</td>\n",
       "      <td>Not Applicable</td>\n",
       "      <td>Not Reported</td>\n",
       "      <td>Not Reported</td>\n",
       "      <td>Not Reported</td>\n",
       "      <td>Not Transported for Treatment</td>\n",
       "    </tr>\n",
       "    <tr>\n",
       "      <th>4</th>\n",
       "      <td>202002121849</td>\n",
       "      <td>2</td>\n",
       "      <td>2</td>\n",
       "      <td>1</td>\n",
       "      <td>21</td>\n",
       "      <td>Driver of a Motor Vehicle In-Transport</td>\n",
       "      <td>No Apparent Injury (O)</td>\n",
       "      <td>Front Seat, Left Side</td>\n",
       "      <td>Shoulder and Lap Belt Used</td>\n",
       "      <td>Not Applicable</td>\n",
       "      <td>Not Deployed</td>\n",
       "      <td>No (Alcohol Not Involved)</td>\n",
       "      <td>No (drugs not involved)</td>\n",
       "      <td>Not Transported for Treatment</td>\n",
       "    </tr>\n",
       "    <tr>\n",
       "      <th>5</th>\n",
       "      <td>202002123484</td>\n",
       "      <td>1</td>\n",
       "      <td>1</td>\n",
       "      <td>1</td>\n",
       "      <td>20</td>\n",
       "      <td>Driver of a Motor Vehicle In-Transport</td>\n",
       "      <td>No Apparent Injury (O)</td>\n",
       "      <td>Front Seat, Left Side</td>\n",
       "      <td>Shoulder and Lap Belt Used</td>\n",
       "      <td>Not Applicable</td>\n",
       "      <td>Not Deployed</td>\n",
       "      <td>Not Reported</td>\n",
       "      <td>Not Reported</td>\n",
       "      <td>Not Transported for Treatment</td>\n",
       "    </tr>\n",
       "    <tr>\n",
       "      <th>6</th>\n",
       "      <td>202002123576</td>\n",
       "      <td>1</td>\n",
       "      <td>1</td>\n",
       "      <td>1</td>\n",
       "      <td>23</td>\n",
       "      <td>Driver of a Motor Vehicle In-Transport</td>\n",
       "      <td>No Apparent Injury (O)</td>\n",
       "      <td>Front Seat, Left Side</td>\n",
       "      <td>Shoulder and Lap Belt Used</td>\n",
       "      <td>Not Applicable</td>\n",
       "      <td>Not Deployed</td>\n",
       "      <td>Not Reported</td>\n",
       "      <td>Not Reported</td>\n",
       "      <td>Not Transported for Treatment</td>\n",
       "    </tr>\n",
       "    <tr>\n",
       "      <th>7</th>\n",
       "      <td>202002123576</td>\n",
       "      <td>1</td>\n",
       "      <td>1</td>\n",
       "      <td>2</td>\n",
       "      <td>24</td>\n",
       "      <td>Passenger of a Motor Vehicle In-Transport</td>\n",
       "      <td>No Apparent Injury (O)</td>\n",
       "      <td>Front Seat, Right Side</td>\n",
       "      <td>Shoulder and Lap Belt Used</td>\n",
       "      <td>Not Applicable</td>\n",
       "      <td>Not Deployed</td>\n",
       "      <td>Not Reported</td>\n",
       "      <td>Not Reported</td>\n",
       "      <td>Not Transported for Treatment</td>\n",
       "    </tr>\n",
       "    <tr>\n",
       "      <th>8</th>\n",
       "      <td>202002125146</td>\n",
       "      <td>1</td>\n",
       "      <td>1</td>\n",
       "      <td>1</td>\n",
       "      <td>57</td>\n",
       "      <td>Driver of a Motor Vehicle In-Transport</td>\n",
       "      <td>Possible Injury (C)</td>\n",
       "      <td>Front Seat, Left Side</td>\n",
       "      <td>Shoulder and Lap Belt Used</td>\n",
       "      <td>Not Applicable</td>\n",
       "      <td>Not Deployed</td>\n",
       "      <td>Not Reported</td>\n",
       "      <td>Not Reported</td>\n",
       "      <td>EMS Ground</td>\n",
       "    </tr>\n",
       "    <tr>\n",
       "      <th>9</th>\n",
       "      <td>202002125146</td>\n",
       "      <td>1</td>\n",
       "      <td>1</td>\n",
       "      <td>2</td>\n",
       "      <td>998</td>\n",
       "      <td>Passenger of a Motor Vehicle In-Transport</td>\n",
       "      <td>No Apparent Injury (O)</td>\n",
       "      <td>Not Reported</td>\n",
       "      <td>Not Reported</td>\n",
       "      <td>Not Applicable</td>\n",
       "      <td>Not Reported</td>\n",
       "      <td>Not Reported</td>\n",
       "      <td>Not Reported</td>\n",
       "      <td>Not Transported for Treatment</td>\n",
       "    </tr>\n",
       "  </tbody>\n",
       "</table>\n",
       "</div>"
      ],
      "text/plain": [
       "        CASENUM  VE_FORMS  VEH_NO  PER_NO  AGE  \\\n",
       "0  202002121240         2       1       1   61   \n",
       "1  202002121240         2       2       1   26   \n",
       "2  202002121829         1       1       1   23   \n",
       "3  202002121849         2       1       1  998   \n",
       "4  202002121849         2       2       1   21   \n",
       "5  202002123484         1       1       1   20   \n",
       "6  202002123576         1       1       1   23   \n",
       "7  202002123576         1       1       2   24   \n",
       "8  202002125146         1       1       1   57   \n",
       "9  202002125146         1       1       2  998   \n",
       "\n",
       "                                 PER_TYPNAME                 INJ_SEVNAME  \\\n",
       "0     Driver of a Motor Vehicle In-Transport      No Apparent Injury (O)   \n",
       "1     Driver of a Motor Vehicle In-Transport      No Apparent Injury (O)   \n",
       "2     Driver of a Motor Vehicle In-Transport  Suspected Minor Injury (B)   \n",
       "3     Driver of a Motor Vehicle In-Transport        Unknown/Not Reported   \n",
       "4     Driver of a Motor Vehicle In-Transport      No Apparent Injury (O)   \n",
       "5     Driver of a Motor Vehicle In-Transport      No Apparent Injury (O)   \n",
       "6     Driver of a Motor Vehicle In-Transport      No Apparent Injury (O)   \n",
       "7  Passenger of a Motor Vehicle In-Transport      No Apparent Injury (O)   \n",
       "8     Driver of a Motor Vehicle In-Transport         Possible Injury (C)   \n",
       "9  Passenger of a Motor Vehicle In-Transport      No Apparent Injury (O)   \n",
       "\n",
       "             SEAT_POSNAME                REST_USENAME    HELM_USENAME  \\\n",
       "0   Front Seat, Left Side  Shoulder and Lap Belt Used  Not Applicable   \n",
       "1   Front Seat, Left Side  Shoulder and Lap Belt Used  Not Applicable   \n",
       "2   Front Seat, Left Side  Shoulder and Lap Belt Used  Not Applicable   \n",
       "3   Front Seat, Left Side                Not Reported  Not Applicable   \n",
       "4   Front Seat, Left Side  Shoulder and Lap Belt Used  Not Applicable   \n",
       "5   Front Seat, Left Side  Shoulder and Lap Belt Used  Not Applicable   \n",
       "6   Front Seat, Left Side  Shoulder and Lap Belt Used  Not Applicable   \n",
       "7  Front Seat, Right Side  Shoulder and Lap Belt Used  Not Applicable   \n",
       "8   Front Seat, Left Side  Shoulder and Lap Belt Used  Not Applicable   \n",
       "9            Not Reported                Not Reported  Not Applicable   \n",
       "\n",
       "             AIR_BAGNAME               DRINKINGNAME                DRUGSNAME  \\\n",
       "0           Not Deployed               Not Reported             Not Reported   \n",
       "1           Not Deployed               Not Reported             Not Reported   \n",
       "2  Deployed- Combination  No (Alcohol Not Involved)  No (drugs not involved)   \n",
       "3           Not Reported               Not Reported             Not Reported   \n",
       "4           Not Deployed  No (Alcohol Not Involved)  No (drugs not involved)   \n",
       "5           Not Deployed               Not Reported             Not Reported   \n",
       "6           Not Deployed               Not Reported             Not Reported   \n",
       "7           Not Deployed               Not Reported             Not Reported   \n",
       "8           Not Deployed               Not Reported             Not Reported   \n",
       "9           Not Reported               Not Reported             Not Reported   \n",
       "\n",
       "                    HOSPITALNAME  \n",
       "0  Not Transported for Treatment  \n",
       "1  Not Transported for Treatment  \n",
       "2                     EMS Ground  \n",
       "3  Not Transported for Treatment  \n",
       "4  Not Transported for Treatment  \n",
       "5  Not Transported for Treatment  \n",
       "6  Not Transported for Treatment  \n",
       "7  Not Transported for Treatment  \n",
       "8                     EMS Ground  \n",
       "9  Not Transported for Treatment  "
      ]
     },
     "execution_count": 3,
     "metadata": {},
     "output_type": "execute_result"
    }
   ],
   "source": [
    "# Had to change CASENUM in EXCEL from General to Number\n",
    "file_path = \"csv_resources/person_filtered.csv\"\n",
    "\n",
    "person_df = pd.read_csv(file_path, encoding='cp1252')\n",
    "person_df.head(10)"
   ]
  },
  {
   "cell_type": "code",
   "execution_count": 4,
   "id": "7fbaf5ce",
   "metadata": {},
   "outputs": [
    {
     "data": {
      "text/plain": [
       "CASENUM          int64\n",
       "VE_FORMS         int64\n",
       "VEH_NO           int64\n",
       "PER_NO           int64\n",
       "AGE              int64\n",
       "PER_TYPNAME     object\n",
       "INJ_SEVNAME     object\n",
       "SEAT_POSNAME    object\n",
       "REST_USENAME    object\n",
       "HELM_USENAME    object\n",
       "AIR_BAGNAME     object\n",
       "DRINKINGNAME    object\n",
       "DRUGSNAME       object\n",
       "HOSPITALNAME    object\n",
       "dtype: object"
      ]
     },
     "execution_count": 4,
     "metadata": {},
     "output_type": "execute_result"
    }
   ],
   "source": [
    "person_df.dtypes"
   ]
  },
  {
   "cell_type": "code",
   "execution_count": 5,
   "id": "9fc035ad",
   "metadata": {},
   "outputs": [
    {
     "data": {
      "text/plain": [
       "131962"
      ]
     },
     "execution_count": 5,
     "metadata": {},
     "output_type": "execute_result"
    }
   ],
   "source": [
    "person_df[person_df.columns[0]].count()"
   ]
  },
  {
   "cell_type": "code",
   "execution_count": 6,
   "id": "e7780532",
   "metadata": {},
   "outputs": [
    {
     "data": {
      "text/plain": [
       "CASENUM         54726\n",
       "VE_FORMS           10\n",
       "VEH_NO             16\n",
       "PER_NO             11\n",
       "AGE               108\n",
       "PER_TYPNAME        12\n",
       "INJ_SEVNAME         8\n",
       "SEAT_POSNAME       28\n",
       "REST_USENAME       14\n",
       "HELM_USENAME        8\n",
       "AIR_BAGNAME        10\n",
       "DRINKINGNAME        4\n",
       "DRUGSNAME           4\n",
       "HOSPITALNAME        9\n",
       "dtype: int64"
      ]
     },
     "execution_count": 6,
     "metadata": {},
     "output_type": "execute_result"
    }
   ],
   "source": [
    "person_df.nunique()"
   ]
  },
  {
   "cell_type": "code",
   "execution_count": 7,
   "id": "b4fb0e61",
   "metadata": {},
   "outputs": [
    {
     "data": {
      "text/plain": [
       "CASENUM         0\n",
       "VE_FORMS        0\n",
       "VEH_NO          0\n",
       "PER_NO          0\n",
       "AGE             0\n",
       "PER_TYPNAME     0\n",
       "INJ_SEVNAME     0\n",
       "SEAT_POSNAME    0\n",
       "REST_USENAME    0\n",
       "HELM_USENAME    0\n",
       "AIR_BAGNAME     0\n",
       "DRINKINGNAME    0\n",
       "DRUGSNAME       0\n",
       "HOSPITALNAME    0\n",
       "dtype: int64"
      ]
     },
     "execution_count": 7,
     "metadata": {},
     "output_type": "execute_result"
    }
   ],
   "source": [
    "person_df.isnull().sum()"
   ]
  },
  {
   "cell_type": "code",
   "execution_count": 8,
   "id": "76cd38d6",
   "metadata": {},
   "outputs": [
    {
     "data": {
      "text/plain": [
       "0"
      ]
     },
     "execution_count": 8,
     "metadata": {},
     "output_type": "execute_result"
    }
   ],
   "source": [
    "duplicates = person_df.duplicated()\n",
    "duplicates.sum()"
   ]
  },
  {
   "cell_type": "code",
   "execution_count": null,
   "id": "27f83e42",
   "metadata": {},
   "outputs": [],
   "source": []
  },
  {
   "cell_type": "markdown",
   "id": "c3ba92ad",
   "metadata": {},
   "source": [
    "## AGE "
   ]
  },
  {
   "cell_type": "code",
   "execution_count": 9,
   "id": "50a8c54b",
   "metadata": {},
   "outputs": [
    {
     "data": {
      "text/plain": [
       "array([ 61,  26,  23, 998,  21,  20,  24,  57,  48,  43,  44,  22,  17,\n",
       "        16,  60,  19,  38,  45,  70,  35,  36,  54,  58,  47,  18,  25,\n",
       "        59,   0,   3,   2,  27,  32,   7,   9,  28,  68,  76,  46,  63,\n",
       "        30,  29,  37,  13, 999,  50,  49,  42,  71,  39,  55,  69,  15,\n",
       "         8,  33,   5,   1,  41,  11,  34,  64,  73,  78,  53,  82,  10,\n",
       "        67,  81,  51,  79,  74,  12,   6,  31,  14,  56,  66,  77,  52,\n",
       "        83,  85,  92,  40,  62,  65,  72,  87,  84,  75,   4,  90,  94,\n",
       "        80,  88,  86,  89,  91,  97,  93,  95, 114, 107, 119,  96, 100,\n",
       "       120, 101,  98,  99], dtype=int64)"
      ]
     },
     "execution_count": 9,
     "metadata": {},
     "output_type": "execute_result"
    }
   ],
   "source": [
    "# Checking for unique age values\n",
    "person_df.AGE.unique()\n",
    "\n",
    "# 998 was not reported, 999 was unknown, 120 seems unlikely"
   ]
  },
  {
   "cell_type": "code",
   "execution_count": 10,
   "id": "d61a72c8",
   "metadata": {
    "scrolled": true
   },
   "outputs": [
    {
     "data": {
      "text/plain": [
       "998    9451\n",
       "19     3393\n",
       "18     3263\n",
       "20     3242\n",
       "21     3156\n",
       "       ... \n",
       "120       2\n",
       "107       1\n",
       "114       1\n",
       "101       1\n",
       "98        1\n",
       "Name: AGE, Length: 108, dtype: int64"
      ]
     },
     "execution_count": 10,
     "metadata": {},
     "output_type": "execute_result"
    }
   ],
   "source": [
    "# How many in each age group\n",
    "person_df['AGE'].value_counts()\n"
   ]
  },
  {
   "cell_type": "code",
   "execution_count": 11,
   "id": "a2ce8982",
   "metadata": {},
   "outputs": [
    {
     "data": {
      "text/plain": [
       "1258"
      ]
     },
     "execution_count": 11,
     "metadata": {},
     "output_type": "execute_result"
    }
   ],
   "source": [
    "# Count number of 999s\n",
    "person_df['AGE'].value_counts()[999]"
   ]
  },
  {
   "cell_type": "markdown",
   "id": "2802a2ee",
   "metadata": {},
   "source": [
    "# Number of 998 + 999 = 10709 </br>\n",
    "# 10709 / 131962 = ~8.1% of values have age either not reported or unknown</br>\n",
    "# How should we handle this? NaN or Transform?"
   ]
  },
  {
   "cell_type": "code",
   "execution_count": 14,
   "id": "aea1470a",
   "metadata": {},
   "outputs": [
    {
     "data": {
      "image/png": "[encoded data removed]",
      "text/plain": [
       "<Figure size 432x288 with 1 Axes>"
      ]
     },
     "metadata": {
      "needs_background": "light"
     },
     "output_type": "display_data"
    }
   ],
   "source": [
    "# leaving 998/999 values as is\n",
    "\n",
    "person_df.hist(column='AGE');\n"
   ]
  },
  {
   "cell_type": "code",
   "execution_count": 21,
   "id": "0b6a1072",
   "metadata": {},
   "outputs": [
    {
     "data": {
      "text/plain": [
       "0          61\n",
       "1          26\n",
       "2          23\n",
       "3         121\n",
       "4          21\n",
       "         ... \n",
       "131957     50\n",
       "131958     15\n",
       "131959     15\n",
       "131960     15\n",
       "131961     46\n",
       "Name: AGE, Length: 131962, dtype: int64"
      ]
     },
     "execution_count": 21,
     "metadata": {},
     "output_type": "execute_result"
    }
   ],
   "source": [
    "# coverting 998/999 values to 121\n",
    "person_df['AGE'] = person_df['AGE'].replace([998,999], [121,121])\n",
    "person_df['AGE']"
   ]
  },
  {
   "cell_type": "code",
   "execution_count": 22,
   "id": "8c6baa85",
   "metadata": {},
   "outputs": [
    {
     "data": {
      "image/png": "[encoded data removed]",
      "text/plain": [
       "<Figure size 432x288 with 1 Axes>"
      ]
     },
     "metadata": {
      "needs_background": "light"
     },
     "output_type": "display_data"
    }
   ],
   "source": [
    "person_df.hist(column='AGE');"
   ]
  },
  {
   "cell_type": "code",
   "execution_count": 23,
   "id": "812ab90f",
   "metadata": {},
   "outputs": [
    {
     "data": {
      "text/plain": [
       "count    131962.000000\n",
       "mean         43.921273\n",
       "std          29.216858\n",
       "min           0.000000\n",
       "25%          23.000000\n",
       "50%          36.000000\n",
       "75%          56.000000\n",
       "max         121.000000\n",
       "Name: AGE, dtype: float64"
      ]
     },
     "execution_count": 23,
     "metadata": {},
     "output_type": "execute_result"
    }
   ],
   "source": [
    "person_df['AGE'].describe()"
   ]
  },
  {
   "cell_type": "markdown",
   "id": "b61f0ec4",
   "metadata": {},
   "source": [
    "# Injury"
   ]
  },
  {
   "cell_type": "code",
   "execution_count": 24,
   "id": "4a888d65",
   "metadata": {},
   "outputs": [
    {
     "data": {
      "text/plain": [
       "No Apparent Injury (O)          84402\n",
       "Possible Injury (C)             19977\n",
       "Suspected Minor Injury (B)      13442\n",
       "Suspected Serious Injury (A)     7548\n",
       "Unknown/Not Reported             4828\n",
       "Fatal Injury (K)                 1520\n",
       "Injured, Severity Unknown         243\n",
       "Died Prior to Crash*                2\n",
       "Name: INJ_SEVNAME, dtype: int64"
      ]
     },
     "execution_count": 24,
     "metadata": {},
     "output_type": "execute_result"
    }
   ],
   "source": [
    "person_df['INJ_SEVNAME'].value_counts()"
   ]
  },
  {
   "cell_type": "code",
   "execution_count": 31,
   "id": "ac8269ee",
   "metadata": {},
   "outputs": [
    {
     "data": {
      "text/plain": [
       "(array([5.6560e+03, 1.8957e+04, 1.9037e+04, 1.3545e+04, 1.1334e+04,\n",
       "        7.1580e+03, 2.7210e+03, 4.8600e+02, 9.0000e+00, 5.4990e+03]),\n",
       " array([  0. ,  12.1,  24.2,  36.3,  48.4,  60.5,  72.6,  84.7,  96.8,\n",
       "        108.9, 121. ]),\n",
       " <BarContainer object of 10 artists>)"
      ]
     },
     "execution_count": 31,
     "metadata": {},
     "output_type": "execute_result"
    },
    {
     "data": {
      "image/png": "[encoded data removed]",
      "text/plain": [
       "<Figure size 432x288 with 1 Axes>"
      ]
     },
     "metadata": {
      "needs_background": "light"
     },
     "output_type": "display_data"
    }
   ],
   "source": [
    "# Histogram for No injury / age\n",
    "noinjury_df =  person_df[person_df['INJ_SEVNAME'] == 'No Apparent Injury (O)']\n",
    "plt.hist(noinjury_df['AGE'])"
   ]
  },
  {
   "cell_type": "code",
   "execution_count": 28,
   "id": "d1bc7b89",
   "metadata": {},
   "outputs": [
    {
     "data": {
      "text/plain": [
       "(array([6.770e+02, 3.157e+03, 3.273e+03, 2.207e+03, 1.962e+03, 1.174e+03,\n",
       "        5.080e+02, 1.080e+02, 2.000e+00, 3.740e+02]),\n",
       " array([  0. ,  12.1,  24.2,  36.3,  48.4,  60.5,  72.6,  84.7,  96.8,\n",
       "        108.9, 121. ]),\n",
       " <BarContainer object of 10 artists>)"
      ]
     },
     "execution_count": 28,
     "metadata": {},
     "output_type": "execute_result"
    },
    {
     "data": {
      "image/png": "[encoded data removed]",
      "text/plain": [
       "<Figure size 432x288 with 1 Axes>"
      ]
     },
     "metadata": {
      "needs_background": "light"
     },
     "output_type": "display_data"
    }
   ],
   "source": [
    "# Histogram for minor injury and age\n",
    "minorinjury_df = person_df[person_df['INJ_SEVNAME'] == 'Suspected Minor Injury (B)']\n",
    "plt.hist(minorinjury_df['AGE'])"
   ]
  },
  {
   "cell_type": "code",
   "execution_count": 29,
   "id": "fd8e81bd",
   "metadata": {},
   "outputs": [
    {
     "data": {
      "text/plain": [
       "(array([ 247., 1772., 2020., 1254., 1065.,  680.,  286.,   56.,    0.,\n",
       "         168.]),\n",
       " array([  0. ,  12.1,  24.2,  36.3,  48.4,  60.5,  72.6,  84.7,  96.8,\n",
       "        108.9, 121. ]),\n",
       " <BarContainer object of 10 artists>)"
      ]
     },
     "execution_count": 29,
     "metadata": {},
     "output_type": "execute_result"
    },
    {
     "data": {
      "image/png": "[encoded data removed]",
      "text/plain": [
       "<Figure size 432x288 with 1 Axes>"
      ]
     },
     "metadata": {
      "needs_background": "light"
     },
     "output_type": "display_data"
    }
   ],
   "source": [
    "# Histogram for serious injury and age\n",
    "seriousinjury_df = person_df[person_df['INJ_SEVNAME'] == 'Suspected Serious Injury (A)']\n",
    "plt.hist(seriousinjury_df['AGE'])"
   ]
  },
  {
   "cell_type": "code",
   "execution_count": 30,
   "id": "67714a14",
   "metadata": {},
   "outputs": [
    {
     "data": {
      "text/plain": [
       "(array([ 30., 260., 366., 266., 273., 174.,  87.,  27.,   0.,  37.]),\n",
       " array([  0. ,  12.1,  24.2,  36.3,  48.4,  60.5,  72.6,  84.7,  96.8,\n",
       "        108.9, 121. ]),\n",
       " <BarContainer object of 10 artists>)"
      ]
     },
     "execution_count": 30,
     "metadata": {},
     "output_type": "execute_result"
    },
    {
     "data": {
      "image/png": "[encoded data removed]",
      "text/plain": [
       "<Figure size 432x288 with 1 Axes>"
      ]
     },
     "metadata": {
      "needs_background": "light"
     },
     "output_type": "display_data"
    }
   ],
   "source": [
    "# Histogram for Fatal Injury / age\n",
    "fatalinjury_df = person_df[person_df['INJ_SEVNAME'] == 'Fatal Injury (K)']\n",
    "plt.hist(fatalinjury_df['AGE'])"
   ]
  },
  {
   "cell_type": "markdown",
   "id": "085b8e96",
   "metadata": {},
   "source": [
    "## It doesn't look like there's much of a distribution shift from No injuries and Minor/Major injuries. There does seem to be a bit of a shift away from the teen/twenty bin towards thirty/fourty and older for fatal injuries."
   ]
  },
  {
   "cell_type": "markdown",
   "id": "ffe55ddd",
   "metadata": {},
   "source": [
    "    "
   ]
  },
  {
   "cell_type": "markdown",
   "id": "8a49c9a2",
   "metadata": {},
   "source": [
    "# Seatbelts"
   ]
  },
  {
   "cell_type": "code",
   "execution_count": 36,
   "id": "a8c6f18a",
   "metadata": {},
   "outputs": [
    {
     "data": {
      "text/plain": [
       "array(['Shoulder and Lap Belt Used', 'Not Reported',\n",
       "       'Reported as Unknown', 'None Used/Not Applicable',\n",
       "       'Not a Motor Vehicle Occupant', 'Child Restraint Type Unknown',\n",
       "       'Restraint Used - Type Unknown',\n",
       "       'Child Restraint System - Rear Facing', 'Booster Seat',\n",
       "       'Child Restraint System - Forward Facing',\n",
       "       'Shoulder Belt Only Used', 'Lap Belt Only Used', 'Other',\n",
       "       'Racing-Style Harness Used'], dtype=object)"
      ]
     },
     "execution_count": 36,
     "metadata": {},
     "output_type": "execute_result"
    }
   ],
   "source": [
    "# Unique values for seatbelts\n",
    "person_df.REST_USENAME.unique()"
   ]
  },
  {
   "cell_type": "code",
   "execution_count": 37,
   "id": "5829e0c9",
   "metadata": {},
   "outputs": [
    {
     "data": {
      "text/plain": [
       "Shoulder and Lap Belt Used                 98566\n",
       "None Used/Not Applicable                    8872\n",
       "Reported as Unknown                         8377\n",
       "Not Reported                                5080\n",
       "Not a Motor Vehicle Occupant                5077\n",
       "Child Restraint Type Unknown                1688\n",
       "Child Restraint System - Forward Facing     1231\n",
       "Lap Belt Only Used                          1047\n",
       "Shoulder Belt Only Used                      819\n",
       "Child Restraint System - Rear Facing         465\n",
       "Booster Seat                                 439\n",
       "Restraint Used - Type Unknown                281\n",
       "Other                                         18\n",
       "Racing-Style Harness Used                      2\n",
       "Name: REST_USENAME, dtype: int64"
      ]
     },
     "execution_count": 37,
     "metadata": {},
     "output_type": "execute_result"
    }
   ],
   "source": [
    "person_df['REST_USENAME'].value_counts()"
   ]
  },
  {
   "cell_type": "code",
   "execution_count": 50,
   "id": "8833687e",
   "metadata": {},
   "outputs": [
    {
     "data": {
      "text/plain": [
       "Shoulder and Lap Belt Used                 98566\n",
       "None Used                                   8872\n",
       "Reported as Unknown                         8377\n",
       "Not Reported                                5080\n",
       "Not a Motor Vehicle Occupant                5077\n",
       "Child Restraint Type Unknown                1688\n",
       "Child Restraint System - Forward Facing     1231\n",
       "Lap Belt Only Used                          1047\n",
       "Shoulder Belt Only Used                      819\n",
       "Child Restraint System - Rear Facing         465\n",
       "Booster Seat                                 439\n",
       "Restraint Used - Type Unknown                281\n",
       "Other                                         18\n",
       "Racing-Style Harness Used                      2\n",
       "Name: REST_USENAME, dtype: int64"
      ]
     },
     "execution_count": 50,
     "metadata": {},
     "output_type": "execute_result"
    }
   ],
   "source": [
    "# Change \"None Used/Not Applicable\" to \"Not Used\"\n",
    "person_df['REST_USENAME'] = person_df['REST_USENAME'].replace(['None Used/Not Applicable'], ['None Used'])\n",
    "person_df['REST_USENAME'].value_counts()"
   ]
  },
  {
   "cell_type": "code",
   "execution_count": null,
   "id": "ab46bd72",
   "metadata": {},
   "outputs": [],
   "source": []
  },
  {
   "cell_type": "code",
   "execution_count": null,
   "id": "1af41628",
   "metadata": {},
   "outputs": [],
   "source": []
  },
  {
   "cell_type": "code",
   "execution_count": null,
   "id": "f2513ac0",
   "metadata": {},
   "outputs": [],
   "source": []
  },
  {
   "cell_type": "code",
   "execution_count": null,
   "id": "aad454ae",
   "metadata": {},
   "outputs": [],
   "source": []
  }
 ],
 "metadata": {
  "kernelspec": {
   "display_name": "Python 3 (ipykernel)",
   "language": "python",
   "name": "python3"
  },
  "language_info": {
   "codemirror_mode": {
    "name": "ipython",
    "version": 3
   },
   "file_extension": ".py",
   "mimetype": "text/x-python",
   "name": "python",
   "nbconvert_exporter": "python",
   "pygments_lexer": "ipython3",
   "version": "3.7.11"
  }
 },
 "nbformat": 4,
 "nbformat_minor": 5
}
